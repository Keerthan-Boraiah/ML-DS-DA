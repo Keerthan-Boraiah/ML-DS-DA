{
 "cells": [
  {
   "cell_type": "code",
   "execution_count": 1,
   "id": "b7e8b7a1",
   "metadata": {},
   "outputs": [
    {
     "name": "stdout",
     "output_type": "stream",
     "text": [
      "Select 1 for Room Features\n",
      "Select 2 for Roommates Information\n",
      "Select 3 for Room Selection\n",
      "Select 4 for Splitting Rent\n",
      "Select 5 for Exit\n",
      "Enter the Choice:- 1\n",
      "Enter the Total Rooms in the House:-3\n",
      "Enter the total rent for the Roomates:- 1000\n",
      "Enter the Size of the Room:- 1\n",
      "150\n",
      "Enter the Size of the Room:- 2\n",
      "200\n",
      "Enter the Size of the Room:- 3\n",
      "250\n",
      "Select 1 for Room Features\n",
      "Select 2 for Roommates Information\n",
      "Select 3 for Room Selection\n",
      "Select 4 for Splitting Rent\n",
      "Select 5 for Exit\n",
      "Enter the Choice:- 2\n",
      "Enter the total number of Roomates:- 3\n",
      "Roomates number accepted\n",
      "Enter the Name of the Roomate 1 :- \n",
      "alice\n",
      "Enter the Name of the Roomate 2 :- \n",
      "bob\n",
      "Enter the Name of the Roomate 3 :- \n",
      "carol\n",
      "Select 1 for Room Features\n",
      "Select 2 for Roommates Information\n",
      "Select 3 for Room Selection\n",
      "Select 4 for Splitting Rent\n",
      "Select 5 for Exit\n",
      "Enter the Choice:- 3\n",
      "Total Rooms Available are:-  3\n",
      "Total Rooms Price is:-  1000 £ Pounds\n",
      "The Room size of 1 is  150.0 Square Feet\n",
      "The Room size of 2 is  200.0 Square Feet\n",
      "The Room size of 3 is  250.0 Square Feet\n",
      "Please Select room number for alice\n",
      "1\n",
      "Please Select room number for bob\n",
      "2\n",
      "Please Select room number for carol\n",
      "3\n",
      "Select 1 for Room Features\n",
      "Select 2 for Roommates Information\n",
      "Select 3 for Room Selection\n",
      "Select 4 for Splitting Rent\n",
      "Select 5 for Exit\n",
      "Enter the Choice:- 4\n",
      "The Shapely Value of alice is 25.0 Out of 100\n",
      "The Shapely Value of bob is 33.33333333333333 Out of 100\n",
      "The Shapely Value of carol is 41.66666666666667 Out of 100\n",
      "alice Rent is 250.0 £ Pounds\n",
      "bob Rent is 333.3333333333333 £ Pounds\n",
      "carol Rent is 416.6666666666667 £ Pounds\n",
      "Select 1 for Room Features\n",
      "Select 2 for Roommates Information\n",
      "Select 3 for Room Selection\n",
      "Select 4 for Splitting Rent\n",
      "Select 5 for Exit\n",
      "Enter the Choice:- 5\n"
     ]
    }
   ],
   "source": [
    "print(\"Select 1 for Room Features\\nSelect 2 for Roommates Information\\nSelect 3 for Room Selection\\nSelect 4 for Splitting Rent\\nSelect 5 for Exit\")\n",
    "choice = int(input(\"Enter the Choice:- \"))\n",
    "\n",
    "global Total_Rooms, roomates_name, total_room_price, room_size, Total_number_of_roomates, room_selection, Shapely_Value\n",
    "\n",
    "#*****************************************************Room Feaures***********************************************************\n",
    "while choice == 1:\n",
    "\n",
    "    def Room_Features():\n",
    "        global Total_Rooms, total_room_price, room_size\n",
    "        \n",
    "        #Get Total Rooms available in the house\n",
    "        Total_Rooms = int(input(\"Enter the Total Rooms in the House:-\"))\n",
    "        \n",
    "        #Get Total Rooms Price\n",
    "        total_room_price = int(input(\"Enter the total rent for the Roomates:- \"))\n",
    "        \n",
    "        #Size of the room\n",
    "        room_size = []\n",
    "        for i in range(Total_Rooms):\n",
    "            print(\"Enter the Size of the Room:-\",i+1)\n",
    "            room_size.append(float(input()))\n",
    "            \n",
    "        return True\n",
    "    \n",
    "            \n",
    "    Room_Features()\n",
    "#****************************************************************************************************************************    \n",
    "\n",
    "    print(\"Select 1 for Room Features\\nSelect 2 for Roommates Information\\nSelect 3 for Room Selection\\nSelect 4 for Splitting Rent\\nSelect 5 for Exit\")\n",
    "    choice = int(input(\"Enter the Choice:- \"))\n",
    "    \n",
    "\n",
    "#***************************************************Roommate Features********************************************************\n",
    "while choice == 2:\n",
    "    \n",
    "    def Roommate_Features():\n",
    "        global Total_number_of_roomates, roomates_name\n",
    "        Total_number_of_roomates = int(input(\"Enter the total number of Roomates:- \"))\n",
    "            \n",
    "        #Get Total Number of Roomates\n",
    "        if Total_number_of_roomates <= Total_Rooms:\n",
    "            print(\"Roomates number accepted\")\n",
    "        else:\n",
    "            print(\"Total number of Roomates cannot exceed Total Rooms. Please Try again\")\n",
    "            Total_number_of_roomates = int(input(\"Enter the total number of Roomates:- \"))\n",
    "        \n",
    "        #Get Roomates Name\n",
    "        roomates_name = []\n",
    "        for i in range(Total_number_of_roomates):\n",
    "            roomates_name.append(0)\n",
    "            \n",
    "            print(\"Enter the Name of the Roomate\",i+1,\":- \")\n",
    "            roomates_name[i] = input()\n",
    "        return True\n",
    "\n",
    "    Roommate_Features()\n",
    "#****************************************************************************************************************************\n",
    "    print(\"Select 1 for Room Features\\nSelect 2 for Roommates Information\\nSelect 3 for Room Selection\\nSelect 4 for Splitting Rent\\nSelect 5 for Exit\")\n",
    "    choice = int(input(\"Enter the Choice:- \"))\n",
    "\n",
    "    \n",
    "#******************************************************Room Selection********************************************************\n",
    "while choice == 3:\n",
    "    \n",
    "    def Room_Selection():\n",
    "        global room_selection\n",
    "        room_selection = []\n",
    "        \n",
    "        print(\"Total Rooms Available are:- \",Total_Rooms)\n",
    "        print(\"Total Rooms Price is:- \",total_room_price,\"£ Pounds\")\n",
    "        \n",
    "        for i in range(len(room_size)):\n",
    "            print(\"The Room size of\",i+1,\"is \",room_size[i],\"Square Feet\")\n",
    "        \n",
    "        for i in roomates_name:\n",
    "            print(\"Please Select room number for\",i)\n",
    "            a = int(input())\n",
    "            if a not in room_selection:\n",
    "                room_selection.append(a)\n",
    "            else:\n",
    "                print('Room already selected, please try again')\n",
    "                break\n",
    "        return True\n",
    "    \n",
    "    Room_Selection()            \n",
    "#****************************************************************************************************************************\n",
    "    print(\"Select 1 for Room Features\\nSelect 2 for Roommates Information\\nSelect 3 for Room Selection\\nSelect 4 for Splitting Rent\\nSelect 5 for Exit\")\n",
    "    choice = int(input(\"Enter the Choice:- \"))    \n",
    "    \n",
    "#******************************************************Splitting Rent********************************************************\n",
    "while choice == 4:\n",
    "    \n",
    "    def Splitting_Rent():\n",
    "    \n",
    "        if Total_Rooms == 1:\n",
    "            split[roomates_name[0]] = total_room_price\n",
    "        else:    \n",
    "            total_square_feet = sum(room_size) \n",
    "            Shapely_Value = []\n",
    "            \n",
    "            for i in room_selection:\n",
    "                Shapely_Value.append((room_size[i-1]/total_square_feet))\n",
    "            \n",
    "            for i in range(len(Shapely_Value)):\n",
    "                print(\"The Shapely Value of\",roomates_name[i],\"is\",Shapely_Value[i]*100,\"Out of 100\")\n",
    "                \n",
    "        \n",
    "        for i in range(len(roomates_name)):\n",
    "            print(roomates_name[i],\"Rent is\",total_room_price*Shapely_Value[i],\"£ Pounds\")\n",
    "        return True\n",
    "\n",
    "    Splitting_Rent()        \n",
    "#****************************************************************************************************************************\n",
    "    print(\"Select 1 for Room Features\\nSelect 2 for Roommates Information\\nSelect 3 for Room Selection\\nSelect 4 for Splitting Rent\\nSelect 5 for Exit\")\n",
    "    choice = int(input(\"Enter the Choice:- \"))  \n",
    "\n",
    "#******************************************************EXIT******************************************************************\n",
    "while choice == 5:\n",
    "    break"
   ]
  },
  {
   "cell_type": "markdown",
   "id": "06898c56",
   "metadata": {},
   "source": [
    "# SPLIT RENT FAIRLY USING SHAPELY VALUE INTEGRATED WITH\n",
    "# Machine Learning Approach"
   ]
  },
  {
   "cell_type": "code",
   "execution_count": 5,
   "id": "3732ee69",
   "metadata": {},
   "outputs": [],
   "source": [
    "import pandas as pd\n",
    "import numpy as np\n",
    "import math\n",
    "import gc\n",
    "import matplotlib.pyplot as plt\n",
    "import seaborn as sns\n",
    "import warnings\n",
    "import random\n",
    "\n",
    "warnings.filterwarnings('ignore')"
   ]
  },
  {
   "cell_type": "code",
   "execution_count": 6,
   "id": "6dd6197c",
   "metadata": {},
   "outputs": [],
   "source": [
    "data = pd.read_csv('House_Rent_Dataset.csv')"
   ]
  },
  {
   "cell_type": "code",
   "execution_count": 7,
   "id": "e718f93f",
   "metadata": {},
   "outputs": [
    {
     "data": {
      "text/html": [
       "<div>\n",
       "<style scoped>\n",
       "    .dataframe tbody tr th:only-of-type {\n",
       "        vertical-align: middle;\n",
       "    }\n",
       "\n",
       "    .dataframe tbody tr th {\n",
       "        vertical-align: top;\n",
       "    }\n",
       "\n",
       "    .dataframe thead th {\n",
       "        text-align: right;\n",
       "    }\n",
       "</style>\n",
       "<table border=\"1\" class=\"dataframe\">\n",
       "  <thead>\n",
       "    <tr style=\"text-align: right;\">\n",
       "      <th></th>\n",
       "      <th>Posted On</th>\n",
       "      <th>BHK</th>\n",
       "      <th>Rent</th>\n",
       "      <th>Size</th>\n",
       "      <th>Floor</th>\n",
       "      <th>Area Type</th>\n",
       "      <th>Area Locality</th>\n",
       "      <th>City</th>\n",
       "      <th>Furnishing Status</th>\n",
       "      <th>Tenant Preferred</th>\n",
       "      <th>Bathroom</th>\n",
       "      <th>Point of Contact</th>\n",
       "    </tr>\n",
       "  </thead>\n",
       "  <tbody>\n",
       "    <tr>\n",
       "      <th>0</th>\n",
       "      <td>2022-05-18</td>\n",
       "      <td>2</td>\n",
       "      <td>10000</td>\n",
       "      <td>1100</td>\n",
       "      <td>Ground out of 2</td>\n",
       "      <td>Super Area</td>\n",
       "      <td>Bandel</td>\n",
       "      <td>Kolkata</td>\n",
       "      <td>Unfurnished</td>\n",
       "      <td>Bachelors/Family</td>\n",
       "      <td>2</td>\n",
       "      <td>Contact Owner</td>\n",
       "    </tr>\n",
       "    <tr>\n",
       "      <th>1</th>\n",
       "      <td>2022-05-13</td>\n",
       "      <td>2</td>\n",
       "      <td>20000</td>\n",
       "      <td>800</td>\n",
       "      <td>1 out of 3</td>\n",
       "      <td>Super Area</td>\n",
       "      <td>Phool Bagan, Kankurgachi</td>\n",
       "      <td>Kolkata</td>\n",
       "      <td>Semi-Furnished</td>\n",
       "      <td>Bachelors/Family</td>\n",
       "      <td>1</td>\n",
       "      <td>Contact Owner</td>\n",
       "    </tr>\n",
       "    <tr>\n",
       "      <th>2</th>\n",
       "      <td>2022-05-16</td>\n",
       "      <td>2</td>\n",
       "      <td>17000</td>\n",
       "      <td>1000</td>\n",
       "      <td>1 out of 3</td>\n",
       "      <td>Super Area</td>\n",
       "      <td>Salt Lake City Sector 2</td>\n",
       "      <td>Kolkata</td>\n",
       "      <td>Semi-Furnished</td>\n",
       "      <td>Bachelors/Family</td>\n",
       "      <td>1</td>\n",
       "      <td>Contact Owner</td>\n",
       "    </tr>\n",
       "    <tr>\n",
       "      <th>3</th>\n",
       "      <td>2022-07-04</td>\n",
       "      <td>2</td>\n",
       "      <td>10000</td>\n",
       "      <td>800</td>\n",
       "      <td>1 out of 2</td>\n",
       "      <td>Super Area</td>\n",
       "      <td>Dumdum Park</td>\n",
       "      <td>Kolkata</td>\n",
       "      <td>Unfurnished</td>\n",
       "      <td>Bachelors/Family</td>\n",
       "      <td>1</td>\n",
       "      <td>Contact Owner</td>\n",
       "    </tr>\n",
       "    <tr>\n",
       "      <th>4</th>\n",
       "      <td>2022-05-09</td>\n",
       "      <td>2</td>\n",
       "      <td>7500</td>\n",
       "      <td>850</td>\n",
       "      <td>1 out of 2</td>\n",
       "      <td>Carpet Area</td>\n",
       "      <td>South Dum Dum</td>\n",
       "      <td>Kolkata</td>\n",
       "      <td>Unfurnished</td>\n",
       "      <td>Bachelors</td>\n",
       "      <td>1</td>\n",
       "      <td>Contact Owner</td>\n",
       "    </tr>\n",
       "    <tr>\n",
       "      <th>...</th>\n",
       "      <td>...</td>\n",
       "      <td>...</td>\n",
       "      <td>...</td>\n",
       "      <td>...</td>\n",
       "      <td>...</td>\n",
       "      <td>...</td>\n",
       "      <td>...</td>\n",
       "      <td>...</td>\n",
       "      <td>...</td>\n",
       "      <td>...</td>\n",
       "      <td>...</td>\n",
       "      <td>...</td>\n",
       "    </tr>\n",
       "    <tr>\n",
       "      <th>4741</th>\n",
       "      <td>2022-05-18</td>\n",
       "      <td>2</td>\n",
       "      <td>15000</td>\n",
       "      <td>1000</td>\n",
       "      <td>3 out of 5</td>\n",
       "      <td>Carpet Area</td>\n",
       "      <td>Bandam Kommu</td>\n",
       "      <td>Hyderabad</td>\n",
       "      <td>Semi-Furnished</td>\n",
       "      <td>Bachelors/Family</td>\n",
       "      <td>2</td>\n",
       "      <td>Contact Owner</td>\n",
       "    </tr>\n",
       "    <tr>\n",
       "      <th>4742</th>\n",
       "      <td>2022-05-15</td>\n",
       "      <td>3</td>\n",
       "      <td>29000</td>\n",
       "      <td>2000</td>\n",
       "      <td>1 out of 4</td>\n",
       "      <td>Super Area</td>\n",
       "      <td>Manikonda, Hyderabad</td>\n",
       "      <td>Hyderabad</td>\n",
       "      <td>Semi-Furnished</td>\n",
       "      <td>Bachelors/Family</td>\n",
       "      <td>3</td>\n",
       "      <td>Contact Owner</td>\n",
       "    </tr>\n",
       "    <tr>\n",
       "      <th>4743</th>\n",
       "      <td>2022-07-10</td>\n",
       "      <td>3</td>\n",
       "      <td>35000</td>\n",
       "      <td>1750</td>\n",
       "      <td>3 out of 5</td>\n",
       "      <td>Carpet Area</td>\n",
       "      <td>Himayath Nagar, NH 7</td>\n",
       "      <td>Hyderabad</td>\n",
       "      <td>Semi-Furnished</td>\n",
       "      <td>Bachelors/Family</td>\n",
       "      <td>3</td>\n",
       "      <td>Contact Agent</td>\n",
       "    </tr>\n",
       "    <tr>\n",
       "      <th>4744</th>\n",
       "      <td>2022-07-06</td>\n",
       "      <td>3</td>\n",
       "      <td>45000</td>\n",
       "      <td>1500</td>\n",
       "      <td>23 out of 34</td>\n",
       "      <td>Carpet Area</td>\n",
       "      <td>Gachibowli</td>\n",
       "      <td>Hyderabad</td>\n",
       "      <td>Semi-Furnished</td>\n",
       "      <td>Family</td>\n",
       "      <td>2</td>\n",
       "      <td>Contact Agent</td>\n",
       "    </tr>\n",
       "    <tr>\n",
       "      <th>4745</th>\n",
       "      <td>2022-05-04</td>\n",
       "      <td>2</td>\n",
       "      <td>15000</td>\n",
       "      <td>1000</td>\n",
       "      <td>4 out of 5</td>\n",
       "      <td>Carpet Area</td>\n",
       "      <td>Suchitra Circle</td>\n",
       "      <td>Hyderabad</td>\n",
       "      <td>Unfurnished</td>\n",
       "      <td>Bachelors</td>\n",
       "      <td>2</td>\n",
       "      <td>Contact Owner</td>\n",
       "    </tr>\n",
       "  </tbody>\n",
       "</table>\n",
       "<p>4746 rows × 12 columns</p>\n",
       "</div>"
      ],
      "text/plain": [
       "       Posted On  BHK   Rent  Size            Floor    Area Type  \\\n",
       "0     2022-05-18    2  10000  1100  Ground out of 2   Super Area   \n",
       "1     2022-05-13    2  20000   800       1 out of 3   Super Area   \n",
       "2     2022-05-16    2  17000  1000       1 out of 3   Super Area   \n",
       "3     2022-07-04    2  10000   800       1 out of 2   Super Area   \n",
       "4     2022-05-09    2   7500   850       1 out of 2  Carpet Area   \n",
       "...          ...  ...    ...   ...              ...          ...   \n",
       "4741  2022-05-18    2  15000  1000       3 out of 5  Carpet Area   \n",
       "4742  2022-05-15    3  29000  2000       1 out of 4   Super Area   \n",
       "4743  2022-07-10    3  35000  1750       3 out of 5  Carpet Area   \n",
       "4744  2022-07-06    3  45000  1500     23 out of 34  Carpet Area   \n",
       "4745  2022-05-04    2  15000  1000       4 out of 5  Carpet Area   \n",
       "\n",
       "                 Area Locality       City Furnishing Status  Tenant Preferred  \\\n",
       "0                       Bandel    Kolkata       Unfurnished  Bachelors/Family   \n",
       "1     Phool Bagan, Kankurgachi    Kolkata    Semi-Furnished  Bachelors/Family   \n",
       "2      Salt Lake City Sector 2    Kolkata    Semi-Furnished  Bachelors/Family   \n",
       "3                  Dumdum Park    Kolkata       Unfurnished  Bachelors/Family   \n",
       "4                South Dum Dum    Kolkata       Unfurnished         Bachelors   \n",
       "...                        ...        ...               ...               ...   \n",
       "4741              Bandam Kommu  Hyderabad    Semi-Furnished  Bachelors/Family   \n",
       "4742      Manikonda, Hyderabad  Hyderabad    Semi-Furnished  Bachelors/Family   \n",
       "4743      Himayath Nagar, NH 7  Hyderabad    Semi-Furnished  Bachelors/Family   \n",
       "4744                Gachibowli  Hyderabad    Semi-Furnished            Family   \n",
       "4745           Suchitra Circle  Hyderabad       Unfurnished         Bachelors   \n",
       "\n",
       "      Bathroom Point of Contact  \n",
       "0            2    Contact Owner  \n",
       "1            1    Contact Owner  \n",
       "2            1    Contact Owner  \n",
       "3            1    Contact Owner  \n",
       "4            1    Contact Owner  \n",
       "...        ...              ...  \n",
       "4741         2    Contact Owner  \n",
       "4742         3    Contact Owner  \n",
       "4743         3    Contact Agent  \n",
       "4744         2    Contact Agent  \n",
       "4745         2    Contact Owner  \n",
       "\n",
       "[4746 rows x 12 columns]"
      ]
     },
     "execution_count": 7,
     "metadata": {},
     "output_type": "execute_result"
    }
   ],
   "source": [
    "data"
   ]
  },
  {
   "cell_type": "markdown",
   "id": "60b24fd4",
   "metadata": {},
   "source": [
    "# Data Preprocessing"
   ]
  },
  {
   "cell_type": "code",
   "execution_count": 144,
   "id": "e0725e4e",
   "metadata": {},
   "outputs": [
    {
     "data": {
      "text/plain": [
       "Posted On            0\n",
       "BHK                  0\n",
       "Rent                 0\n",
       "Size                 0\n",
       "Floor                0\n",
       "Area Type            0\n",
       "Area Locality        0\n",
       "City                 0\n",
       "Furnishing Status    0\n",
       "Tenant Preferred     0\n",
       "Bathroom             0\n",
       "Point of Contact     0\n",
       "dtype: int64"
      ]
     },
     "execution_count": 144,
     "metadata": {},
     "output_type": "execute_result"
    }
   ],
   "source": [
    "#Check Null values\n",
    "data.isnull().sum()"
   ]
  },
  {
   "cell_type": "code",
   "execution_count": 145,
   "id": "389d1b87",
   "metadata": {},
   "outputs": [
    {
     "data": {
      "text/plain": [
       "0"
      ]
     },
     "execution_count": 145,
     "metadata": {},
     "output_type": "execute_result"
    }
   ],
   "source": [
    "#Check Duplicates\n",
    "data.duplicated().sum()"
   ]
  },
  {
   "cell_type": "code",
   "execution_count": 146,
   "id": "c9bbacf1",
   "metadata": {},
   "outputs": [],
   "source": [
    "#Drop duplicates\n",
    "data.drop_duplicates(inplace = True)"
   ]
  },
  {
   "cell_type": "code",
   "execution_count": 147,
   "id": "4aedcaeb",
   "metadata": {},
   "outputs": [
    {
     "data": {
      "text/html": [
       "<div>\n",
       "<style scoped>\n",
       "    .dataframe tbody tr th:only-of-type {\n",
       "        vertical-align: middle;\n",
       "    }\n",
       "\n",
       "    .dataframe tbody tr th {\n",
       "        vertical-align: top;\n",
       "    }\n",
       "\n",
       "    .dataframe thead th {\n",
       "        text-align: right;\n",
       "    }\n",
       "</style>\n",
       "<table border=\"1\" class=\"dataframe\">\n",
       "  <thead>\n",
       "    <tr style=\"text-align: right;\">\n",
       "      <th></th>\n",
       "      <th>BHK</th>\n",
       "      <th>Rent</th>\n",
       "      <th>Size</th>\n",
       "      <th>Bathroom</th>\n",
       "    </tr>\n",
       "  </thead>\n",
       "  <tbody>\n",
       "    <tr>\n",
       "      <th>count</th>\n",
       "      <td>4746.000000</td>\n",
       "      <td>4.746000e+03</td>\n",
       "      <td>4746.000000</td>\n",
       "      <td>4746.000000</td>\n",
       "    </tr>\n",
       "    <tr>\n",
       "      <th>mean</th>\n",
       "      <td>2.083860</td>\n",
       "      <td>3.499345e+04</td>\n",
       "      <td>967.490729</td>\n",
       "      <td>1.965866</td>\n",
       "    </tr>\n",
       "    <tr>\n",
       "      <th>std</th>\n",
       "      <td>0.832256</td>\n",
       "      <td>7.810641e+04</td>\n",
       "      <td>634.202328</td>\n",
       "      <td>0.884532</td>\n",
       "    </tr>\n",
       "    <tr>\n",
       "      <th>min</th>\n",
       "      <td>1.000000</td>\n",
       "      <td>1.200000e+03</td>\n",
       "      <td>10.000000</td>\n",
       "      <td>1.000000</td>\n",
       "    </tr>\n",
       "    <tr>\n",
       "      <th>25%</th>\n",
       "      <td>2.000000</td>\n",
       "      <td>1.000000e+04</td>\n",
       "      <td>550.000000</td>\n",
       "      <td>1.000000</td>\n",
       "    </tr>\n",
       "    <tr>\n",
       "      <th>50%</th>\n",
       "      <td>2.000000</td>\n",
       "      <td>1.600000e+04</td>\n",
       "      <td>850.000000</td>\n",
       "      <td>2.000000</td>\n",
       "    </tr>\n",
       "    <tr>\n",
       "      <th>75%</th>\n",
       "      <td>3.000000</td>\n",
       "      <td>3.300000e+04</td>\n",
       "      <td>1200.000000</td>\n",
       "      <td>2.000000</td>\n",
       "    </tr>\n",
       "    <tr>\n",
       "      <th>max</th>\n",
       "      <td>6.000000</td>\n",
       "      <td>3.500000e+06</td>\n",
       "      <td>8000.000000</td>\n",
       "      <td>10.000000</td>\n",
       "    </tr>\n",
       "  </tbody>\n",
       "</table>\n",
       "</div>"
      ],
      "text/plain": [
       "               BHK          Rent         Size     Bathroom\n",
       "count  4746.000000  4.746000e+03  4746.000000  4746.000000\n",
       "mean      2.083860  3.499345e+04   967.490729     1.965866\n",
       "std       0.832256  7.810641e+04   634.202328     0.884532\n",
       "min       1.000000  1.200000e+03    10.000000     1.000000\n",
       "25%       2.000000  1.000000e+04   550.000000     1.000000\n",
       "50%       2.000000  1.600000e+04   850.000000     2.000000\n",
       "75%       3.000000  3.300000e+04  1200.000000     2.000000\n",
       "max       6.000000  3.500000e+06  8000.000000    10.000000"
      ]
     },
     "execution_count": 147,
     "metadata": {},
     "output_type": "execute_result"
    }
   ],
   "source": [
    "#Check summary\n",
    "data.describe()"
   ]
  },
  {
   "cell_type": "code",
   "execution_count": 148,
   "id": "43b1ba72",
   "metadata": {},
   "outputs": [
    {
     "name": "stdout",
     "output_type": "stream",
     "text": [
      "<class 'pandas.core.frame.DataFrame'>\n",
      "Int64Index: 4746 entries, 0 to 4745\n",
      "Data columns (total 12 columns):\n",
      " #   Column             Non-Null Count  Dtype \n",
      "---  ------             --------------  ----- \n",
      " 0   Posted On          4746 non-null   object\n",
      " 1   BHK                4746 non-null   int64 \n",
      " 2   Rent               4746 non-null   int64 \n",
      " 3   Size               4746 non-null   int64 \n",
      " 4   Floor              4746 non-null   object\n",
      " 5   Area Type          4746 non-null   object\n",
      " 6   Area Locality      4746 non-null   object\n",
      " 7   City               4746 non-null   object\n",
      " 8   Furnishing Status  4746 non-null   object\n",
      " 9   Tenant Preferred   4746 non-null   object\n",
      " 10  Bathroom           4746 non-null   int64 \n",
      " 11  Point of Contact   4746 non-null   object\n",
      "dtypes: int64(4), object(8)\n",
      "memory usage: 482.0+ KB\n"
     ]
    }
   ],
   "source": [
    "#check summary\n",
    "data.info()"
   ]
  },
  {
   "cell_type": "code",
   "execution_count": 149,
   "id": "53cbec85",
   "metadata": {},
   "outputs": [
    {
     "data": {
      "text/plain": [
       "array([[<AxesSubplot:title={'center':'BHK'}>,\n",
       "        <AxesSubplot:title={'center':'Rent'}>],\n",
       "       [<AxesSubplot:title={'center':'Size'}>,\n",
       "        <AxesSubplot:title={'center':'Bathroom'}>]], dtype=object)"
      ]
     },
     "execution_count": 149,
     "metadata": {},
     "output_type": "execute_result"
    },
    {
     "data": {
      "image/png": "[encoded data removed]",
      "text/plain": [
       "<Figure size 432x288 with 4 Axes>"
      ]
     },
     "metadata": {
      "needs_background": "light"
     },
     "output_type": "display_data"
    }
   ],
   "source": [
    "#Check Skewness\n",
    "\n",
    "data.hist()"
   ]
  },
  {
   "cell_type": "code",
   "execution_count": 150,
   "id": "74235a29",
   "metadata": {},
   "outputs": [
    {
     "data": {
      "text/plain": [
       "<AxesSubplot:>"
      ]
     },
     "execution_count": 150,
     "metadata": {},
     "output_type": "execute_result"
    },
    {
     "data": {
      "image/png": "[encoded data removed]",
      "text/plain": [
       "<Figure size 432x288 with 1 Axes>"
      ]
     },
     "metadata": {
      "needs_background": "light"
     },
     "output_type": "display_data"
    }
   ],
   "source": [
    "#Check Outlier\n",
    "data.boxplot()"
   ]
  },
  {
   "cell_type": "markdown",
   "id": "44179810",
   "metadata": {},
   "source": [
    "# Insights"
   ]
  },
  {
   "cell_type": "code",
   "execution_count": 157,
   "id": "41dfb016",
   "metadata": {},
   "outputs": [
    {
     "data": {
      "image/png": "[encoded data removed]",
      "text/plain": [
       "<Figure size 1008x432 with 1 Axes>"
      ]
     },
     "metadata": {
      "needs_background": "light"
     },
     "output_type": "display_data"
    }
   ],
   "source": [
    "plt.figure(figsize=(14, 6))\n",
    "plt.ticklabel_format(style='plain')\n",
    "sns.scatterplot(data=data, x='Size', y='Rent', hue='BHK', s=120, marker='s')\n",
    "plt.title('BHK vs Rent', fontweight='bold')\n",
    "plt.grid(True)\n",
    "plt.show()"
   ]
  },
  {
   "cell_type": "code",
   "execution_count": 158,
   "id": "41bb8ee0",
   "metadata": {},
   "outputs": [
    {
     "data": {
      "image/png": "[encoded data removed]",
      "text/plain": [
       "<Figure size 432x288 with 1 Axes>"
      ]
     },
     "metadata": {
      "needs_background": "light"
     },
     "output_type": "display_data"
    }
   ],
   "source": [
    "No_of_house=data['BHK'].value_counts()\n",
    "colors = ['pink', 'blue', 'green', 'orange', 'Black','Red']\n",
    "func=No_of_house.plot(kind='bar',color=colors)\n",
    "for p in func.patches:\n",
    "    func.annotate(str(p.get_height()), (p.get_x() + p.get_width() / 2., p.get_height()), ha='center', va='center', xytext=(0, 5), textcoords='offset points')\n",
    "plt.xlabel('BHK',fontweight='bold')\n",
    "plt.ylabel('Number of Houses',fontweight='bold')\n",
    "plt.show()"
   ]
  },
  {
   "cell_type": "code",
   "execution_count": 159,
   "id": "217e7a2c",
   "metadata": {},
   "outputs": [
    {
     "name": "stdout",
     "output_type": "stream",
     "text": [
      "Tenant Preferred  Furnishing Status\n",
      "Bachelors         Unfurnished           409\n",
      "                  Semi-Furnished        324\n",
      "                  Furnished              97\n",
      "Bachelors/Family  Semi-Furnished       1675\n",
      "                  Unfurnished          1261\n",
      "                  Furnished             508\n",
      "Family            Semi-Furnished        252\n",
      "                  Unfurnished           145\n",
      "                  Furnished              75\n",
      "Name: Furnishing Status, dtype: int64\n"
     ]
    }
   ],
   "source": [
    "grouped=data.groupby('Tenant Preferred')\n",
    "population_sum = grouped['Furnishing Status'].value_counts()\n",
    "print(population_sum)"
   ]
  },
  {
   "cell_type": "code",
   "execution_count": 160,
   "id": "d26b2062",
   "metadata": {},
   "outputs": [
    {
     "data": {
      "image/png": "[encoded data removed]",
      "text/plain": [
       "<Figure size 432x288 with 1 Axes>"
      ]
     },
     "metadata": {
      "needs_background": "light"
     },
     "output_type": "display_data"
    }
   ],
   "source": [
    "preffered=data['Tenant Preferred'].value_counts()\n",
    "mac=preffered.plot(kind='bar',color='pink')\n",
    "for p in mac.patches:\n",
    "    mac.annotate(str(p.get_height()), (p.get_x() + p.get_width() / 2., p.get_height()), ha='center', va='center', xytext=(0, 5), textcoords='offset points')\n",
    "plt.show()"
   ]
  },
  {
   "cell_type": "code",
   "execution_count": 162,
   "id": "8e778193",
   "metadata": {},
   "outputs": [
    {
     "name": "stdout",
     "output_type": "stream",
     "text": [
      "Percentage of Furnished: 14 %\n",
      "Percentage of Semi-Furnished: 47 %\n",
      "Percentage of Unfurnished: 38 %\n"
     ]
    }
   ],
   "source": [
    "per_un=data['Furnishing Status'].value_counts()\n",
    "percentage_furnished = round((per_un['Furnished'] / per_un.sum()) * 100)\n",
    "percentage_semi_furnished = round((per_un['Semi-Furnished'] / per_un.sum()) * 100)\n",
    "percentage_unfurnished = round((per_un['Unfurnished'] / per_un.sum()) * 100)\n",
    "\n",
    "X = [percentage_furnished, percentage_semi_furnished, percentage_unfurnished]\n",
    "labels = ['Furnished','Semi-Furnished','Unfurnised']\n",
    "print(\"Percentage of Furnished:\", percentage_furnished, '%')\n",
    "print(\"Percentage of Semi-Furnished:\", percentage_semi_furnished, '%')\n",
    "print(\"Percentage of Unfurnished:\", percentage_unfurnished, '%')"
   ]
  },
  {
   "cell_type": "code",
   "execution_count": 163,
   "id": "341ec96b",
   "metadata": {},
   "outputs": [
    {
     "data": {
      "image/png": "[encoded data removed]",
      "text/plain": [
       "<Figure size 432x288 with 1 Axes>"
      ]
     },
     "metadata": {},
     "output_type": "display_data"
    }
   ],
   "source": [
    "plt.pie(X,labels=labels,autopct='%.2f%%')\n",
    "plt.title('Furnishing Status')\n",
    "\n",
    "plt.show()"
   ]
  },
  {
   "cell_type": "code",
   "execution_count": 58,
   "id": "f81ff9ac",
   "metadata": {},
   "outputs": [
    {
     "data": {
      "text/plain": [
       "array([2, 1, 3, 6, 4, 5], dtype=int64)"
      ]
     },
     "execution_count": 58,
     "metadata": {},
     "output_type": "execute_result"
    }
   ],
   "source": [
    "data['BHK'].unique()"
   ]
  },
  {
   "cell_type": "code",
   "execution_count": 59,
   "id": "7dd4d8dc",
   "metadata": {},
   "outputs": [
    {
     "data": {
      "text/plain": [
       "array([ 2,  1,  3,  5,  4,  6,  7, 10], dtype=int64)"
      ]
     },
     "execution_count": 59,
     "metadata": {},
     "output_type": "execute_result"
    }
   ],
   "source": [
    "data['Bathroom'].unique()"
   ]
  },
  {
   "cell_type": "code",
   "execution_count": 165,
   "id": "3fd29178",
   "metadata": {},
   "outputs": [
    {
     "data": {
      "text/html": [
       "<div>\n",
       "<style scoped>\n",
       "    .dataframe tbody tr th:only-of-type {\n",
       "        vertical-align: middle;\n",
       "    }\n",
       "\n",
       "    .dataframe tbody tr th {\n",
       "        vertical-align: top;\n",
       "    }\n",
       "\n",
       "    .dataframe thead th {\n",
       "        text-align: right;\n",
       "    }\n",
       "</style>\n",
       "<table border=\"1\" class=\"dataframe\">\n",
       "  <thead>\n",
       "    <tr style=\"text-align: right;\">\n",
       "      <th></th>\n",
       "      <th>Posted On</th>\n",
       "      <th>BHK</th>\n",
       "      <th>Rent</th>\n",
       "      <th>Size</th>\n",
       "      <th>Floor</th>\n",
       "      <th>Area Type</th>\n",
       "      <th>Area Locality</th>\n",
       "      <th>City</th>\n",
       "      <th>Furnishing Status</th>\n",
       "      <th>Tenant Preferred</th>\n",
       "      <th>Bathroom</th>\n",
       "      <th>Point of Contact</th>\n",
       "    </tr>\n",
       "  </thead>\n",
       "  <tbody>\n",
       "    <tr>\n",
       "      <th>0</th>\n",
       "      <td>2022-05-18</td>\n",
       "      <td>2</td>\n",
       "      <td>10000</td>\n",
       "      <td>1100</td>\n",
       "      <td>Ground out of 2</td>\n",
       "      <td>Super Area</td>\n",
       "      <td>Bandel</td>\n",
       "      <td>Kolkata</td>\n",
       "      <td>Unfurnished</td>\n",
       "      <td>Bachelors/Family</td>\n",
       "      <td>2</td>\n",
       "      <td>Contact Owner</td>\n",
       "    </tr>\n",
       "    <tr>\n",
       "      <th>1</th>\n",
       "      <td>2022-05-13</td>\n",
       "      <td>2</td>\n",
       "      <td>20000</td>\n",
       "      <td>800</td>\n",
       "      <td>1 out of 3</td>\n",
       "      <td>Super Area</td>\n",
       "      <td>Phool Bagan, Kankurgachi</td>\n",
       "      <td>Kolkata</td>\n",
       "      <td>Semi-Furnished</td>\n",
       "      <td>Bachelors/Family</td>\n",
       "      <td>1</td>\n",
       "      <td>Contact Owner</td>\n",
       "    </tr>\n",
       "    <tr>\n",
       "      <th>2</th>\n",
       "      <td>2022-05-16</td>\n",
       "      <td>2</td>\n",
       "      <td>17000</td>\n",
       "      <td>1000</td>\n",
       "      <td>1 out of 3</td>\n",
       "      <td>Super Area</td>\n",
       "      <td>Salt Lake City Sector 2</td>\n",
       "      <td>Kolkata</td>\n",
       "      <td>Semi-Furnished</td>\n",
       "      <td>Bachelors/Family</td>\n",
       "      <td>1</td>\n",
       "      <td>Contact Owner</td>\n",
       "    </tr>\n",
       "    <tr>\n",
       "      <th>3</th>\n",
       "      <td>2022-07-04</td>\n",
       "      <td>2</td>\n",
       "      <td>10000</td>\n",
       "      <td>800</td>\n",
       "      <td>1 out of 2</td>\n",
       "      <td>Super Area</td>\n",
       "      <td>Dumdum Park</td>\n",
       "      <td>Kolkata</td>\n",
       "      <td>Unfurnished</td>\n",
       "      <td>Bachelors/Family</td>\n",
       "      <td>1</td>\n",
       "      <td>Contact Owner</td>\n",
       "    </tr>\n",
       "    <tr>\n",
       "      <th>4</th>\n",
       "      <td>2022-05-09</td>\n",
       "      <td>2</td>\n",
       "      <td>7500</td>\n",
       "      <td>850</td>\n",
       "      <td>1 out of 2</td>\n",
       "      <td>Carpet Area</td>\n",
       "      <td>South Dum Dum</td>\n",
       "      <td>Kolkata</td>\n",
       "      <td>Unfurnished</td>\n",
       "      <td>Bachelors</td>\n",
       "      <td>1</td>\n",
       "      <td>Contact Owner</td>\n",
       "    </tr>\n",
       "  </tbody>\n",
       "</table>\n",
       "</div>"
      ],
      "text/plain": [
       "    Posted On  BHK   Rent  Size            Floor    Area Type  \\\n",
       "0  2022-05-18    2  10000  1100  Ground out of 2   Super Area   \n",
       "1  2022-05-13    2  20000   800       1 out of 3   Super Area   \n",
       "2  2022-05-16    2  17000  1000       1 out of 3   Super Area   \n",
       "3  2022-07-04    2  10000   800       1 out of 2   Super Area   \n",
       "4  2022-05-09    2   7500   850       1 out of 2  Carpet Area   \n",
       "\n",
       "              Area Locality     City Furnishing Status  Tenant Preferred  \\\n",
       "0                    Bandel  Kolkata       Unfurnished  Bachelors/Family   \n",
       "1  Phool Bagan, Kankurgachi  Kolkata    Semi-Furnished  Bachelors/Family   \n",
       "2   Salt Lake City Sector 2  Kolkata    Semi-Furnished  Bachelors/Family   \n",
       "3               Dumdum Park  Kolkata       Unfurnished  Bachelors/Family   \n",
       "4             South Dum Dum  Kolkata       Unfurnished         Bachelors   \n",
       "\n",
       "   Bathroom Point of Contact  \n",
       "0         2    Contact Owner  \n",
       "1         1    Contact Owner  \n",
       "2         1    Contact Owner  \n",
       "3         1    Contact Owner  \n",
       "4         1    Contact Owner  "
      ]
     },
     "execution_count": 165,
     "metadata": {},
     "output_type": "execute_result"
    }
   ],
   "source": [
    "data.head()"
   ]
  },
  {
   "cell_type": "markdown",
   "id": "b7c0ea1e",
   "metadata": {},
   "source": [
    "# Getting Shapely value and Rent split "
   ]
  },
  {
   "cell_type": "code",
   "execution_count": 130,
   "id": "63086dba",
   "metadata": {},
   "outputs": [],
   "source": [
    "#WE HAVE TO GET SHAPELY VALUE AND RENT FOR ALL ROOMATES SO WE CAN FIT INTO MACHINE LEARNING ALGORITHM AND \n",
    "# MAKE THE ALGORITHM LEARN SO WHEN WE INPUT UNSEEN DATA OR NEW ROOMS AND ROOMATES, THE ALGORITHM WILL PREDICT THE RENT SPLIT"
   ]
  },
  {
   "cell_type": "code",
   "execution_count": 166,
   "id": "b3d250b0",
   "metadata": {},
   "outputs": [],
   "source": [
    "for i in range(7):\n",
    "    if i == 0:\n",
    "        continue\n",
    "    else:\n",
    "        data['Roomate-'+str(i)+' Size'] = 0\n",
    "        \n",
    "for j in range(7):\n",
    "    if j == 0:\n",
    "        continue\n",
    "    else:\n",
    "        data['Roomate-'+str(j)+\" Shapely\"] = 0\n",
    "\n",
    "for k in range(7):\n",
    "    if k == 0:\n",
    "        continue\n",
    "    else:\n",
    "        data['Roomate-'+str(k)+\" Rent\"] = 0\n",
    "\n",
    "def split_unevenly_with_min(number, num_shares, min_share):\n",
    "    if num_shares <= 0 or number < num_shares * min_share:\n",
    "        return []\n",
    "\n",
    "    shares = []\n",
    "    remaining = number\n",
    "\n",
    "    for _ in range(num_shares - 1):\n",
    "        max_share = remaining - (num_shares - len(shares) - 1) * min_share\n",
    "        share = random.randint(min_share, max_share)\n",
    "        shares.append(share)\n",
    "        remaining -= share\n",
    "\n",
    "    shares.append(remaining)\n",
    "\n",
    "    return shares\n",
    "\n",
    "#Getting the total room sizes\n",
    "for i in range(data.shape[0]):\n",
    "    shares = split_unevenly_with_min(data['Size'][i], data['BHK'][i], 100)\n",
    "    \n",
    "    while len(shares) != 6:\n",
    "        shares.append(0)\n",
    "        \n",
    "    data['Roomate-1 Size'][i] = shares[0]\n",
    "    data['Roomate-2 Size'][i] = shares[1]\n",
    "    data['Roomate-3 Size'][i] = shares[2]\n",
    "    data['Roomate-4 Size'][i] = shares[3]\n",
    "    data['Roomate-5 Size'][i] = shares[4]\n",
    "    data['Roomate-6 Size'][i] = shares[5]\n",
    "    \n",
    "def shapely_value(x,y):\n",
    "    return x/y\n",
    "\n",
    "data['Roomate-1 Shapely'] = data.apply(lambda data: shapely_value(data['Roomate-1 Size'], data['Size']), axis=1)\n",
    "data['Roomate-2 Shapely'] = data.apply(lambda data: shapely_value(data['Roomate-2 Size'], data['Size']), axis=1)\n",
    "data['Roomate-3 Shapely'] = data.apply(lambda data: shapely_value(data['Roomate-3 Size'], data['Size']), axis=1)\n",
    "data['Roomate-4 Shapely'] = data.apply(lambda data: shapely_value(data['Roomate-4 Size'], data['Size']), axis=1)\n",
    "data['Roomate-5 Shapely'] = data.apply(lambda data: shapely_value(data['Roomate-5 Size'], data['Size']), axis=1)\n",
    "data['Roomate-6 Shapely'] = data.apply(lambda data: shapely_value(data['Roomate-6 Size'], data['Size']), axis=1)\n",
    "\n",
    "def rent_split(x,y):\n",
    "    return x*y\n",
    "\n",
    "data['Roomate-1 Rent'] = data.apply(lambda data: rent_split(data['Roomate-1 Shapely'], data['Rent']), axis=1)\n",
    "data['Roomate-2 Rent'] = data.apply(lambda data: rent_split(data['Roomate-2 Shapely'], data['Rent']), axis=1)\n",
    "data['Roomate-3 Rent'] = data.apply(lambda data: rent_split(data['Roomate-3 Shapely'], data['Rent']), axis=1)\n",
    "data['Roomate-4 Rent'] = data.apply(lambda data: rent_split(data['Roomate-4 Shapely'], data['Rent']), axis=1)\n",
    "data['Roomate-5 Rent'] = data.apply(lambda data: rent_split(data['Roomate-5 Shapely'], data['Rent']), axis=1)\n",
    "data['Roomate-6 Rent'] = data.apply(lambda data: rent_split(data['Roomate-6 Shapely'], data['Rent']), axis=1)"
   ]
  },
  {
   "cell_type": "code",
   "execution_count": 188,
   "id": "8eaa055e",
   "metadata": {},
   "outputs": [
    {
     "data": {
      "text/plain": [
       "Index(['Posted On', 'BHK', 'Rent', 'Size', 'Floor', 'Area Type',\n",
       "       'Area Locality', 'City', 'Furnishing Status', 'Tenant Preferred',\n",
       "       'Bathroom', 'Point of Contact', 'Roomate-1 Size', 'Roomate-2 Size',\n",
       "       'Roomate-3 Size', 'Roomate-4 Size', 'Roomate-5 Size', 'Roomate-6 Size',\n",
       "       'Roomate-1 Shapely', 'Roomate-2 Shapely', 'Roomate-3 Shapely',\n",
       "       'Roomate-4 Shapely', 'Roomate-5 Shapely', 'Roomate-6 Shapely',\n",
       "       'Roomate-1 Rent', 'Roomate-2 Rent', 'Roomate-3 Rent', 'Roomate-4 Rent',\n",
       "       'Roomate-5 Rent', 'Roomate-6 Rent'],\n",
       "      dtype='object')"
      ]
     },
     "execution_count": 188,
     "metadata": {},
     "output_type": "execute_result"
    }
   ],
   "source": [
    "data.columns"
   ]
  },
  {
   "cell_type": "code",
   "execution_count": 189,
   "id": "5f740a21",
   "metadata": {
    "scrolled": false
   },
   "outputs": [
    {
     "data": {
      "text/html": [
       "<div>\n",
       "<style scoped>\n",
       "    .dataframe tbody tr th:only-of-type {\n",
       "        vertical-align: middle;\n",
       "    }\n",
       "\n",
       "    .dataframe tbody tr th {\n",
       "        vertical-align: top;\n",
       "    }\n",
       "\n",
       "    .dataframe thead th {\n",
       "        text-align: right;\n",
       "    }\n",
       "</style>\n",
       "<table border=\"1\" class=\"dataframe\">\n",
       "  <thead>\n",
       "    <tr style=\"text-align: right;\">\n",
       "      <th></th>\n",
       "      <th>Posted On</th>\n",
       "      <th>BHK</th>\n",
       "      <th>Rent</th>\n",
       "      <th>Size</th>\n",
       "      <th>Floor</th>\n",
       "      <th>Area Type</th>\n",
       "      <th>Area Locality</th>\n",
       "      <th>City</th>\n",
       "      <th>Furnishing Status</th>\n",
       "      <th>Tenant Preferred</th>\n",
       "      <th>...</th>\n",
       "      <th>Roomate-3 Shapely</th>\n",
       "      <th>Roomate-4 Shapely</th>\n",
       "      <th>Roomate-5 Shapely</th>\n",
       "      <th>Roomate-6 Shapely</th>\n",
       "      <th>Roomate-1 Rent</th>\n",
       "      <th>Roomate-2 Rent</th>\n",
       "      <th>Roomate-3 Rent</th>\n",
       "      <th>Roomate-4 Rent</th>\n",
       "      <th>Roomate-5 Rent</th>\n",
       "      <th>Roomate-6 Rent</th>\n",
       "    </tr>\n",
       "  </thead>\n",
       "  <tbody>\n",
       "    <tr>\n",
       "      <th>0</th>\n",
       "      <td>2022-05-18</td>\n",
       "      <td>2</td>\n",
       "      <td>10000</td>\n",
       "      <td>1100</td>\n",
       "      <td>Ground out of 2</td>\n",
       "      <td>Super Area</td>\n",
       "      <td>Bandel</td>\n",
       "      <td>Kolkata</td>\n",
       "      <td>Unfurnished</td>\n",
       "      <td>Bachelors/Family</td>\n",
       "      <td>...</td>\n",
       "      <td>0.0</td>\n",
       "      <td>0.0</td>\n",
       "      <td>0.0</td>\n",
       "      <td>0.0</td>\n",
       "      <td>2472.727273</td>\n",
       "      <td>7527.272727</td>\n",
       "      <td>0.0</td>\n",
       "      <td>0.0</td>\n",
       "      <td>0.0</td>\n",
       "      <td>0.0</td>\n",
       "    </tr>\n",
       "    <tr>\n",
       "      <th>1</th>\n",
       "      <td>2022-05-13</td>\n",
       "      <td>2</td>\n",
       "      <td>20000</td>\n",
       "      <td>800</td>\n",
       "      <td>1 out of 3</td>\n",
       "      <td>Super Area</td>\n",
       "      <td>Phool Bagan, Kankurgachi</td>\n",
       "      <td>Kolkata</td>\n",
       "      <td>Semi-Furnished</td>\n",
       "      <td>Bachelors/Family</td>\n",
       "      <td>...</td>\n",
       "      <td>0.0</td>\n",
       "      <td>0.0</td>\n",
       "      <td>0.0</td>\n",
       "      <td>0.0</td>\n",
       "      <td>14975.000000</td>\n",
       "      <td>5025.000000</td>\n",
       "      <td>0.0</td>\n",
       "      <td>0.0</td>\n",
       "      <td>0.0</td>\n",
       "      <td>0.0</td>\n",
       "    </tr>\n",
       "    <tr>\n",
       "      <th>2</th>\n",
       "      <td>2022-05-16</td>\n",
       "      <td>2</td>\n",
       "      <td>17000</td>\n",
       "      <td>1000</td>\n",
       "      <td>1 out of 3</td>\n",
       "      <td>Super Area</td>\n",
       "      <td>Salt Lake City Sector 2</td>\n",
       "      <td>Kolkata</td>\n",
       "      <td>Semi-Furnished</td>\n",
       "      <td>Bachelors/Family</td>\n",
       "      <td>...</td>\n",
       "      <td>0.0</td>\n",
       "      <td>0.0</td>\n",
       "      <td>0.0</td>\n",
       "      <td>0.0</td>\n",
       "      <td>8483.000000</td>\n",
       "      <td>8517.000000</td>\n",
       "      <td>0.0</td>\n",
       "      <td>0.0</td>\n",
       "      <td>0.0</td>\n",
       "      <td>0.0</td>\n",
       "    </tr>\n",
       "    <tr>\n",
       "      <th>3</th>\n",
       "      <td>2022-07-04</td>\n",
       "      <td>2</td>\n",
       "      <td>10000</td>\n",
       "      <td>800</td>\n",
       "      <td>1 out of 2</td>\n",
       "      <td>Super Area</td>\n",
       "      <td>Dumdum Park</td>\n",
       "      <td>Kolkata</td>\n",
       "      <td>Unfurnished</td>\n",
       "      <td>Bachelors/Family</td>\n",
       "      <td>...</td>\n",
       "      <td>0.0</td>\n",
       "      <td>0.0</td>\n",
       "      <td>0.0</td>\n",
       "      <td>0.0</td>\n",
       "      <td>2312.500000</td>\n",
       "      <td>7687.500000</td>\n",
       "      <td>0.0</td>\n",
       "      <td>0.0</td>\n",
       "      <td>0.0</td>\n",
       "      <td>0.0</td>\n",
       "    </tr>\n",
       "    <tr>\n",
       "      <th>4</th>\n",
       "      <td>2022-05-09</td>\n",
       "      <td>2</td>\n",
       "      <td>7500</td>\n",
       "      <td>850</td>\n",
       "      <td>1 out of 2</td>\n",
       "      <td>Carpet Area</td>\n",
       "      <td>South Dum Dum</td>\n",
       "      <td>Kolkata</td>\n",
       "      <td>Unfurnished</td>\n",
       "      <td>Bachelors</td>\n",
       "      <td>...</td>\n",
       "      <td>0.0</td>\n",
       "      <td>0.0</td>\n",
       "      <td>0.0</td>\n",
       "      <td>0.0</td>\n",
       "      <td>3335.294118</td>\n",
       "      <td>4164.705882</td>\n",
       "      <td>0.0</td>\n",
       "      <td>0.0</td>\n",
       "      <td>0.0</td>\n",
       "      <td>0.0</td>\n",
       "    </tr>\n",
       "  </tbody>\n",
       "</table>\n",
       "<p>5 rows × 30 columns</p>\n",
       "</div>"
      ],
      "text/plain": [
       "    Posted On  BHK   Rent  Size            Floor    Area Type  \\\n",
       "0  2022-05-18    2  10000  1100  Ground out of 2   Super Area   \n",
       "1  2022-05-13    2  20000   800       1 out of 3   Super Area   \n",
       "2  2022-05-16    2  17000  1000       1 out of 3   Super Area   \n",
       "3  2022-07-04    2  10000   800       1 out of 2   Super Area   \n",
       "4  2022-05-09    2   7500   850       1 out of 2  Carpet Area   \n",
       "\n",
       "              Area Locality     City Furnishing Status  Tenant Preferred  ...  \\\n",
       "0                    Bandel  Kolkata       Unfurnished  Bachelors/Family  ...   \n",
       "1  Phool Bagan, Kankurgachi  Kolkata    Semi-Furnished  Bachelors/Family  ...   \n",
       "2   Salt Lake City Sector 2  Kolkata    Semi-Furnished  Bachelors/Family  ...   \n",
       "3               Dumdum Park  Kolkata       Unfurnished  Bachelors/Family  ...   \n",
       "4             South Dum Dum  Kolkata       Unfurnished         Bachelors  ...   \n",
       "\n",
       "   Roomate-3 Shapely Roomate-4 Shapely  Roomate-5 Shapely  Roomate-6 Shapely  \\\n",
       "0                0.0               0.0                0.0                0.0   \n",
       "1                0.0               0.0                0.0                0.0   \n",
       "2                0.0               0.0                0.0                0.0   \n",
       "3                0.0               0.0                0.0                0.0   \n",
       "4                0.0               0.0                0.0                0.0   \n",
       "\n",
       "   Roomate-1 Rent  Roomate-2 Rent  Roomate-3 Rent  Roomate-4 Rent  \\\n",
       "0     2472.727273     7527.272727             0.0             0.0   \n",
       "1    14975.000000     5025.000000             0.0             0.0   \n",
       "2     8483.000000     8517.000000             0.0             0.0   \n",
       "3     2312.500000     7687.500000             0.0             0.0   \n",
       "4     3335.294118     4164.705882             0.0             0.0   \n",
       "\n",
       "   Roomate-5 Rent  Roomate-6 Rent  \n",
       "0             0.0             0.0  \n",
       "1             0.0             0.0  \n",
       "2             0.0             0.0  \n",
       "3             0.0             0.0  \n",
       "4             0.0             0.0  \n",
       "\n",
       "[5 rows x 30 columns]"
      ]
     },
     "execution_count": 189,
     "metadata": {},
     "output_type": "execute_result"
    }
   ],
   "source": [
    "data.head()"
   ]
  },
  {
   "cell_type": "markdown",
   "id": "eeccd404",
   "metadata": {},
   "source": [
    "# MODEL BUILDING"
   ]
  },
  {
   "cell_type": "code",
   "execution_count": 190,
   "id": "5b33ca0a",
   "metadata": {},
   "outputs": [],
   "source": [
    "df = data.copy()"
   ]
  },
  {
   "cell_type": "code",
   "execution_count": 191,
   "id": "cdc0c39e",
   "metadata": {},
   "outputs": [
    {
     "data": {
      "text/plain": [
       "Index(['Posted On', 'BHK', 'Rent', 'Size', 'Floor', 'Area Type',\n",
       "       'Area Locality', 'City', 'Furnishing Status', 'Tenant Preferred',\n",
       "       'Bathroom', 'Point of Contact', 'Roomate-1 Size', 'Roomate-2 Size',\n",
       "       'Roomate-3 Size', 'Roomate-4 Size', 'Roomate-5 Size', 'Roomate-6 Size',\n",
       "       'Roomate-1 Shapely', 'Roomate-2 Shapely', 'Roomate-3 Shapely',\n",
       "       'Roomate-4 Shapely', 'Roomate-5 Shapely', 'Roomate-6 Shapely',\n",
       "       'Roomate-1 Rent', 'Roomate-2 Rent', 'Roomate-3 Rent', 'Roomate-4 Rent',\n",
       "       'Roomate-5 Rent', 'Roomate-6 Rent'],\n",
       "      dtype='object')"
      ]
     },
     "execution_count": 191,
     "metadata": {},
     "output_type": "execute_result"
    }
   ],
   "source": [
    "#Removing unecessary columns to fit into algorithms\n",
    "\n",
    "df.columns"
   ]
  },
  {
   "cell_type": "code",
   "execution_count": 192,
   "id": "594ce1e7",
   "metadata": {},
   "outputs": [],
   "source": [
    "df = df[['Rent','Roomate-1 Shapely', 'Roomate-2 Shapely', 'Roomate-3 Shapely',\n",
    "       'Roomate-4 Shapely', 'Roomate-5 Shapely', 'Roomate-6 Shapely',\n",
    "       'Roomate-1 Rent', 'Roomate-2 Rent', 'Roomate-3 Rent', 'Roomate-4 Rent',\n",
    "       'Roomate-5 Rent', 'Roomate-6 Rent']]"
   ]
  },
  {
   "cell_type": "markdown",
   "id": "391e25a7",
   "metadata": {},
   "source": [
    "# Splitting the data into Training 80% and Testing 20%"
   ]
  },
  {
   "cell_type": "code",
   "execution_count": 246,
   "id": "de1cae89",
   "metadata": {},
   "outputs": [
    {
     "data": {
      "text/html": [
       "<div>\n",
       "<style scoped>\n",
       "    .dataframe tbody tr th:only-of-type {\n",
       "        vertical-align: middle;\n",
       "    }\n",
       "\n",
       "    .dataframe tbody tr th {\n",
       "        vertical-align: top;\n",
       "    }\n",
       "\n",
       "    .dataframe thead th {\n",
       "        text-align: right;\n",
       "    }\n",
       "</style>\n",
       "<table border=\"1\" class=\"dataframe\">\n",
       "  <thead>\n",
       "    <tr style=\"text-align: right;\">\n",
       "      <th></th>\n",
       "      <th>Rent</th>\n",
       "      <th>Roomate-1 Shapely</th>\n",
       "      <th>Roomate-2 Shapely</th>\n",
       "      <th>Roomate-3 Shapely</th>\n",
       "      <th>Roomate-4 Shapely</th>\n",
       "      <th>Roomate-5 Shapely</th>\n",
       "      <th>Roomate-6 Shapely</th>\n",
       "      <th>Roomate-1 Rent</th>\n",
       "      <th>Roomate-2 Rent</th>\n",
       "      <th>Roomate-3 Rent</th>\n",
       "      <th>Roomate-4 Rent</th>\n",
       "      <th>Roomate-5 Rent</th>\n",
       "      <th>Roomate-6 Rent</th>\n",
       "    </tr>\n",
       "  </thead>\n",
       "  <tbody>\n",
       "    <tr>\n",
       "      <th>0</th>\n",
       "      <td>10000</td>\n",
       "      <td>0.247273</td>\n",
       "      <td>0.752727</td>\n",
       "      <td>0.000000</td>\n",
       "      <td>0.0</td>\n",
       "      <td>0.0</td>\n",
       "      <td>0.0</td>\n",
       "      <td>2472.727273</td>\n",
       "      <td>7527.272727</td>\n",
       "      <td>0.0</td>\n",
       "      <td>0.0</td>\n",
       "      <td>0.0</td>\n",
       "      <td>0.0</td>\n",
       "    </tr>\n",
       "    <tr>\n",
       "      <th>1</th>\n",
       "      <td>20000</td>\n",
       "      <td>0.748750</td>\n",
       "      <td>0.251250</td>\n",
       "      <td>0.000000</td>\n",
       "      <td>0.0</td>\n",
       "      <td>0.0</td>\n",
       "      <td>0.0</td>\n",
       "      <td>14975.000000</td>\n",
       "      <td>5025.000000</td>\n",
       "      <td>0.0</td>\n",
       "      <td>0.0</td>\n",
       "      <td>0.0</td>\n",
       "      <td>0.0</td>\n",
       "    </tr>\n",
       "    <tr>\n",
       "      <th>2</th>\n",
       "      <td>17000</td>\n",
       "      <td>0.499000</td>\n",
       "      <td>0.501000</td>\n",
       "      <td>0.000000</td>\n",
       "      <td>0.0</td>\n",
       "      <td>0.0</td>\n",
       "      <td>0.0</td>\n",
       "      <td>8483.000000</td>\n",
       "      <td>8517.000000</td>\n",
       "      <td>0.0</td>\n",
       "      <td>0.0</td>\n",
       "      <td>0.0</td>\n",
       "      <td>0.0</td>\n",
       "    </tr>\n",
       "    <tr>\n",
       "      <th>3</th>\n",
       "      <td>10000</td>\n",
       "      <td>0.231250</td>\n",
       "      <td>0.768750</td>\n",
       "      <td>0.000000</td>\n",
       "      <td>0.0</td>\n",
       "      <td>0.0</td>\n",
       "      <td>0.0</td>\n",
       "      <td>2312.500000</td>\n",
       "      <td>7687.500000</td>\n",
       "      <td>0.0</td>\n",
       "      <td>0.0</td>\n",
       "      <td>0.0</td>\n",
       "      <td>0.0</td>\n",
       "    </tr>\n",
       "    <tr>\n",
       "      <th>4</th>\n",
       "      <td>7500</td>\n",
       "      <td>0.444706</td>\n",
       "      <td>0.555294</td>\n",
       "      <td>0.000000</td>\n",
       "      <td>0.0</td>\n",
       "      <td>0.0</td>\n",
       "      <td>0.0</td>\n",
       "      <td>3335.294118</td>\n",
       "      <td>4164.705882</td>\n",
       "      <td>0.0</td>\n",
       "      <td>0.0</td>\n",
       "      <td>0.0</td>\n",
       "      <td>0.0</td>\n",
       "    </tr>\n",
       "    <tr>\n",
       "      <th>...</th>\n",
       "      <td>...</td>\n",
       "      <td>...</td>\n",
       "      <td>...</td>\n",
       "      <td>...</td>\n",
       "      <td>...</td>\n",
       "      <td>...</td>\n",
       "      <td>...</td>\n",
       "      <td>...</td>\n",
       "      <td>...</td>\n",
       "      <td>...</td>\n",
       "      <td>...</td>\n",
       "      <td>...</td>\n",
       "      <td>...</td>\n",
       "    </tr>\n",
       "    <tr>\n",
       "      <th>4741</th>\n",
       "      <td>15000</td>\n",
       "      <td>0.613000</td>\n",
       "      <td>0.387000</td>\n",
       "      <td>0.000000</td>\n",
       "      <td>0.0</td>\n",
       "      <td>0.0</td>\n",
       "      <td>0.0</td>\n",
       "      <td>9195.000000</td>\n",
       "      <td>5805.000000</td>\n",
       "      <td>0.0</td>\n",
       "      <td>0.0</td>\n",
       "      <td>0.0</td>\n",
       "      <td>0.0</td>\n",
       "    </tr>\n",
       "    <tr>\n",
       "      <th>4742</th>\n",
       "      <td>29000</td>\n",
       "      <td>0.375500</td>\n",
       "      <td>0.381500</td>\n",
       "      <td>0.243000</td>\n",
       "      <td>0.0</td>\n",
       "      <td>0.0</td>\n",
       "      <td>0.0</td>\n",
       "      <td>10889.500000</td>\n",
       "      <td>11063.500000</td>\n",
       "      <td>7047.0</td>\n",
       "      <td>0.0</td>\n",
       "      <td>0.0</td>\n",
       "      <td>0.0</td>\n",
       "    </tr>\n",
       "    <tr>\n",
       "      <th>4743</th>\n",
       "      <td>35000</td>\n",
       "      <td>0.681143</td>\n",
       "      <td>0.174857</td>\n",
       "      <td>0.144000</td>\n",
       "      <td>0.0</td>\n",
       "      <td>0.0</td>\n",
       "      <td>0.0</td>\n",
       "      <td>23840.000000</td>\n",
       "      <td>6120.000000</td>\n",
       "      <td>5040.0</td>\n",
       "      <td>0.0</td>\n",
       "      <td>0.0</td>\n",
       "      <td>0.0</td>\n",
       "    </tr>\n",
       "    <tr>\n",
       "      <th>4744</th>\n",
       "      <td>45000</td>\n",
       "      <td>0.612000</td>\n",
       "      <td>0.257333</td>\n",
       "      <td>0.130667</td>\n",
       "      <td>0.0</td>\n",
       "      <td>0.0</td>\n",
       "      <td>0.0</td>\n",
       "      <td>27540.000000</td>\n",
       "      <td>11580.000000</td>\n",
       "      <td>5880.0</td>\n",
       "      <td>0.0</td>\n",
       "      <td>0.0</td>\n",
       "      <td>0.0</td>\n",
       "    </tr>\n",
       "    <tr>\n",
       "      <th>4745</th>\n",
       "      <td>15000</td>\n",
       "      <td>0.208000</td>\n",
       "      <td>0.792000</td>\n",
       "      <td>0.000000</td>\n",
       "      <td>0.0</td>\n",
       "      <td>0.0</td>\n",
       "      <td>0.0</td>\n",
       "      <td>3120.000000</td>\n",
       "      <td>11880.000000</td>\n",
       "      <td>0.0</td>\n",
       "      <td>0.0</td>\n",
       "      <td>0.0</td>\n",
       "      <td>0.0</td>\n",
       "    </tr>\n",
       "  </tbody>\n",
       "</table>\n",
       "<p>4746 rows × 13 columns</p>\n",
       "</div>"
      ],
      "text/plain": [
       "       Rent  Roomate-1 Shapely  Roomate-2 Shapely  Roomate-3 Shapely  \\\n",
       "0     10000           0.247273           0.752727           0.000000   \n",
       "1     20000           0.748750           0.251250           0.000000   \n",
       "2     17000           0.499000           0.501000           0.000000   \n",
       "3     10000           0.231250           0.768750           0.000000   \n",
       "4      7500           0.444706           0.555294           0.000000   \n",
       "...     ...                ...                ...                ...   \n",
       "4741  15000           0.613000           0.387000           0.000000   \n",
       "4742  29000           0.375500           0.381500           0.243000   \n",
       "4743  35000           0.681143           0.174857           0.144000   \n",
       "4744  45000           0.612000           0.257333           0.130667   \n",
       "4745  15000           0.208000           0.792000           0.000000   \n",
       "\n",
       "      Roomate-4 Shapely  Roomate-5 Shapely  Roomate-6 Shapely  Roomate-1 Rent  \\\n",
       "0                   0.0                0.0                0.0     2472.727273   \n",
       "1                   0.0                0.0                0.0    14975.000000   \n",
       "2                   0.0                0.0                0.0     8483.000000   \n",
       "3                   0.0                0.0                0.0     2312.500000   \n",
       "4                   0.0                0.0                0.0     3335.294118   \n",
       "...                 ...                ...                ...             ...   \n",
       "4741                0.0                0.0                0.0     9195.000000   \n",
       "4742                0.0                0.0                0.0    10889.500000   \n",
       "4743                0.0                0.0                0.0    23840.000000   \n",
       "4744                0.0                0.0                0.0    27540.000000   \n",
       "4745                0.0                0.0                0.0     3120.000000   \n",
       "\n",
       "      Roomate-2 Rent  Roomate-3 Rent  Roomate-4 Rent  Roomate-5 Rent  \\\n",
       "0        7527.272727             0.0             0.0             0.0   \n",
       "1        5025.000000             0.0             0.0             0.0   \n",
       "2        8517.000000             0.0             0.0             0.0   \n",
       "3        7687.500000             0.0             0.0             0.0   \n",
       "4        4164.705882             0.0             0.0             0.0   \n",
       "...              ...             ...             ...             ...   \n",
       "4741     5805.000000             0.0             0.0             0.0   \n",
       "4742    11063.500000          7047.0             0.0             0.0   \n",
       "4743     6120.000000          5040.0             0.0             0.0   \n",
       "4744    11580.000000          5880.0             0.0             0.0   \n",
       "4745    11880.000000             0.0             0.0             0.0   \n",
       "\n",
       "      Roomate-6 Rent  \n",
       "0                0.0  \n",
       "1                0.0  \n",
       "2                0.0  \n",
       "3                0.0  \n",
       "4                0.0  \n",
       "...              ...  \n",
       "4741             0.0  \n",
       "4742             0.0  \n",
       "4743             0.0  \n",
       "4744             0.0  \n",
       "4745             0.0  \n",
       "\n",
       "[4746 rows x 13 columns]"
      ]
     },
     "execution_count": 246,
     "metadata": {},
     "output_type": "execute_result"
    }
   ],
   "source": [
    "df"
   ]
  },
  {
   "cell_type": "code",
   "execution_count": 266,
   "id": "9f767334",
   "metadata": {},
   "outputs": [],
   "source": [
    "X = df[['Rent','Roomate-1 Shapely', 'Roomate-2 Shapely', 'Roomate-3 Shapely',\n",
    "       'Roomate-4 Shapely', 'Roomate-5 Shapely', 'Roomate-6 Shapely']]\n",
    "y = df[['Roomate-1 Rent', 'Roomate-2 Rent', 'Roomate-3 Rent', 'Roomate-4 Rent',\n",
    "       'Roomate-5 Rent', 'Roomate-6 Rent']]"
   ]
  },
  {
   "cell_type": "code",
   "execution_count": 267,
   "id": "08a53f18",
   "metadata": {},
   "outputs": [],
   "source": [
    "from sklearn.model_selection import train_test_split"
   ]
  },
  {
   "cell_type": "code",
   "execution_count": 268,
   "id": "3fe05707",
   "metadata": {},
   "outputs": [],
   "source": [
    "# Split the data into training and testing sets\n",
    "X_train, X_test, y_train, y_test = train_test_split(X, y, test_size=0.20, random_state=42)"
   ]
  },
  {
   "cell_type": "code",
   "execution_count": 269,
   "id": "c416602a",
   "metadata": {},
   "outputs": [
    {
     "data": {
      "text/plain": [
       "((3796, 7), (950, 7), (3796, 6), (950, 6))"
      ]
     },
     "execution_count": 269,
     "metadata": {},
     "output_type": "execute_result"
    }
   ],
   "source": [
    "X_train.shape, X_test.shape, y_train.shape, y_test.shape"
   ]
  },
  {
   "cell_type": "markdown",
   "id": "112978b9",
   "metadata": {},
   "source": [
    "# Linear Regression"
   ]
  },
  {
   "cell_type": "code",
   "execution_count": 270,
   "id": "2acd448c",
   "metadata": {},
   "outputs": [],
   "source": [
    "from sklearn.linear_model import LinearRegression"
   ]
  },
  {
   "cell_type": "code",
   "execution_count": 271,
   "id": "3b9577a6",
   "metadata": {},
   "outputs": [],
   "source": [
    "reg = LinearRegression().fit(X_train, y_train)"
   ]
  },
  {
   "cell_type": "code",
   "execution_count": 272,
   "id": "ef8cd751",
   "metadata": {},
   "outputs": [],
   "source": [
    "y_pred = reg.predict(X_test)"
   ]
  },
  {
   "cell_type": "code",
   "execution_count": 273,
   "id": "d447c200",
   "metadata": {},
   "outputs": [],
   "source": [
    "from sklearn.metrics import mean_absolute_error, mean_squared_error, r2_score"
   ]
  },
  {
   "cell_type": "code",
   "execution_count": 274,
   "id": "57fd0755",
   "metadata": {},
   "outputs": [
    {
     "name": "stdout",
     "output_type": "stream",
     "text": [
      "Mean Absolute Error (MAE): 2903.914315893142\n",
      "Mean Squared Error (MSE): 75867252.0294688\n",
      "R-squared (R²): 0.60041161428226\n"
     ]
    }
   ],
   "source": [
    "# Evaluate the model\n",
    "mae = mean_absolute_error(y_test, y_pred)\n",
    "mse = mean_squared_error(y_test, y_pred)\n",
    "r2 = r2_score(y_test, y_pred)\n",
    "\n",
    "print(f\"Mean Absolute Error (MAE): {mae}\")\n",
    "print(f\"Mean Squared Error (MSE): {mse}\")\n",
    "print(f\"R-squared (R²): {r2}\")"
   ]
  },
  {
   "cell_type": "markdown",
   "id": "cde4d96b",
   "metadata": {},
   "source": [
    "# Random FOrest Regressor"
   ]
  },
  {
   "cell_type": "code",
   "execution_count": 275,
   "id": "bf4d054d",
   "metadata": {},
   "outputs": [],
   "source": [
    "from sklearn.ensemble import RandomForestRegressor"
   ]
  },
  {
   "cell_type": "code",
   "execution_count": 276,
   "id": "44d17877",
   "metadata": {},
   "outputs": [],
   "source": [
    "regr = RandomForestRegressor(max_depth=2, random_state=0).fit(X_train, y_train)"
   ]
  },
  {
   "cell_type": "code",
   "execution_count": 277,
   "id": "b06bb53f",
   "metadata": {},
   "outputs": [],
   "source": [
    "y_pred = regr.predict(X_test)"
   ]
  },
  {
   "cell_type": "code",
   "execution_count": 278,
   "id": "5cd8f60e",
   "metadata": {},
   "outputs": [
    {
     "name": "stdout",
     "output_type": "stream",
     "text": [
      "Mean Absolute Error (MAE): 4067.7722599000167\n",
      "Mean Squared Error (MSE): 139693162.3207188\n",
      "R-squared (R²): 0.06482514402477098\n"
     ]
    }
   ],
   "source": [
    "# Evaluate the model\n",
    "mae = mean_absolute_error(y_test, y_pred)\n",
    "mse = mean_squared_error(y_test, y_pred)\n",
    "r2 = r2_score(y_test, y_pred)\n",
    "\n",
    "print(f\"Mean Absolute Error (MAE): {mae}\")\n",
    "print(f\"Mean Squared Error (MSE): {mse}\")\n",
    "print(f\"R-squared (R²): {r2}\")"
   ]
  },
  {
   "cell_type": "markdown",
   "id": "b29fb85b",
   "metadata": {},
   "source": [
    "# XGBOOST"
   ]
  },
  {
   "cell_type": "code",
   "execution_count": 260,
   "id": "dfbbb170",
   "metadata": {},
   "outputs": [],
   "source": [
    "from xgboost import XGBRegressor"
   ]
  },
  {
   "cell_type": "code",
   "execution_count": 214,
   "id": "46d12310",
   "metadata": {},
   "outputs": [],
   "source": [
    "# create an xgboost regression model\n",
    "model = XGBRegressor(n_estimators=1000, max_depth=7, eta=0.1, subsample=0.7, colsample_bytree=0.8).fit(X_train, y_train)"
   ]
  },
  {
   "cell_type": "code",
   "execution_count": 217,
   "id": "1dfb5983",
   "metadata": {},
   "outputs": [],
   "source": [
    "y_pred = model.predict(X_test)"
   ]
  },
  {
   "cell_type": "code",
   "execution_count": 218,
   "id": "13d28fb2",
   "metadata": {},
   "outputs": [
    {
     "name": "stdout",
     "output_type": "stream",
     "text": [
      "Mean Absolute Error (MAE): 565.8275115707638\n",
      "Mean Squared Error (MSE): 19526940.558224052\n",
      "R-squared (R²): 0.5010245492798117\n"
     ]
    }
   ],
   "source": [
    "# Evaluate the model\n",
    "mae = mean_absolute_error(y_test, y_pred)\n",
    "mse = mean_squared_error(y_test, y_pred)\n",
    "r2 = r2_score(y_test, y_pred)\n",
    "\n",
    "print(f\"Mean Absolute Error (MAE): {mae}\")\n",
    "print(f\"Mean Squared Error (MSE): {mse}\")\n",
    "print(f\"R-squared (R²): {r2}\")"
   ]
  },
  {
   "cell_type": "markdown",
   "id": "39f34f91",
   "metadata": {},
   "source": [
    "# Deployment"
   ]
  },
  {
   "cell_type": "code",
   "execution_count": 219,
   "id": "d7c2e057",
   "metadata": {},
   "outputs": [],
   "source": [
    "#CHOOSING Random Forest ALGORIOTHM AS MY FINAL MODEL FOR SPLITTING RENT FAIRLY USING MACHINE LEARNING"
   ]
  },
  {
   "cell_type": "code",
   "execution_count": 279,
   "id": "2b88b5d9",
   "metadata": {},
   "outputs": [],
   "source": [
    "import joblib"
   ]
  },
  {
   "cell_type": "code",
   "execution_count": 280,
   "id": "df003cef",
   "metadata": {},
   "outputs": [
    {
     "data": {
      "text/plain": [
       "['SplitRent_FairlyML.pkl']"
      ]
     },
     "execution_count": 280,
     "metadata": {},
     "output_type": "execute_result"
    }
   ],
   "source": [
    "# Define the filename for the .pkl file\n",
    "filename = 'SplitRent_FairlyML.pkl'\n",
    "\n",
    "# Save the model to a .pkl file\n",
    "joblib.dump(regr, filename)"
   ]
  },
  {
   "cell_type": "code",
   "execution_count": null,
   "id": "3465dc5f",
   "metadata": {},
   "outputs": [],
   "source": []
  },
  {
   "cell_type": "markdown",
   "id": "f5c9dfb7",
   "metadata": {},
   "source": [
    "# ML SPLIT RENT FAIRLY"
   ]
  },
  {
   "cell_type": "code",
   "execution_count": 10,
   "id": "a9de5970",
   "metadata": {},
   "outputs": [
    {
     "name": "stdout",
     "output_type": "stream",
     "text": [
      "Enter the House Total Rent:-3434\n",
      "Enter the House Size:-4355\n",
      "Enter the House Roomate-1 Size:-345\n",
      "Enter the House Roomate-2 Size:-3453\n",
      "Enter the House Roomate-3 Size:-345\n",
      "Enter the House Roomate-4 Size:-345\n",
      "Enter the House Roomate-5 Size:-345\n",
      "Enter the House Roomate-6 Size:-345\n",
      "Room- 1 Rent is:-  12191.811650346424\n",
      "Room- 2 Rent is:-  6945.372829023693\n",
      "Room- 3 Rent is:-  2146.33461982295\n",
      "Room- 4 Rent is:-  207.99313721069353\n",
      "Room- 5 Rent is:-  8.215070341903946\n",
      "Room- 6 Rent is:-  3.441567843736156\n"
     ]
    }
   ],
   "source": [
    "#MAKE SURE TO PUT VALUES THAT ARE NOT CLEARLY EXACT ROOM SIZE LIKE 200 or 300 cause we didnt had many data, the model only\n",
    "#knows and learned some pattern. IF more data is available, the model will accurately able to predict and split rent fairly\n",
    "#So for the model to work use data that are similar to the ones that we trained the model like room rent is 10000 size of room 1 \n",
    "# is 240, size of room 2 is 750, like this similar, because these are the pattern the algorithm understood.\n",
    "#Future works of the project invloves in having more suffocated data so any kind of pattern can be identified by the algorithm.\n",
    "\n",
    "import joblib\n",
    "\n",
    "# Load the model from the .pkl file\n",
    "RF = joblib.load('SplitRent_FairlyML.pkl')\n",
    "\n",
    "NEW_House = pd.DataFrame(index = range(1))\n",
    "NEW_House[['Rent',\"Size\",'Roomate-1 Size','Roomate-2 Size','Roomate-3 Size','Roomate-4 Size'\n",
    "           ,'Roomate-5 Size','Roomate-6 Size',\n",
    "           'Roomate-1 Shapely', 'Roomate-2 Shapely', 'Roomate-3 Shapely',\n",
    "           'Roomate-4 Shapely', 'Roomate-5 Shapely', 'Roomate-6 Shapely']] = 0\n",
    "\n",
    "NEW_House['Rent'][0] = int(input(\"Enter the House Total Rent:-\"))\n",
    "NEW_House['Size'][0] = int(input(\"Enter the House Size:-\"))\n",
    "\n",
    "NEW_House['Roomate-1 Size'][0] = int(input(\"Enter the House Roomate-1 Size:-\"))\n",
    "NEW_House['Roomate-2 Size'][0] = int(input(\"Enter the House Roomate-2 Size:-\"))\n",
    "NEW_House['Roomate-3 Size'][0] = int(input(\"Enter the House Roomate-3 Size:-\"))\n",
    "NEW_House['Roomate-4 Size'][0] = int(input(\"Enter the House Roomate-4 Size:-\"))\n",
    "NEW_House['Roomate-5 Size'][0] = int(input(\"Enter the House Roomate-5 Size:-\"))\n",
    "NEW_House['Roomate-6 Size'][0] = int(input(\"Enter the House Roomate-6 Size:-\"))\n",
    "\n",
    "NEW_House['Roomate-1 Shapely'][0] = NEW_House['Roomate-1 Size'][0]/NEW_House['Size'][0]\n",
    "NEW_House['Roomate-2 Shapely'][0] = NEW_House['Roomate-2 Size'][0]/NEW_House['Size'][0]\n",
    "NEW_House['Roomate-3 Shapely'][0] = NEW_House['Roomate-3 Size'][0]/NEW_House['Size'][0]\n",
    "NEW_House['Roomate-4 Shapely'][0] = NEW_House['Roomate-4 Size'][0]/NEW_House['Size'][0]\n",
    "NEW_House['Roomate-5 Shapely'][0] = NEW_House['Roomate-5 Size'][0]/NEW_House['Size'][0]\n",
    "NEW_House['Roomate-6 Shapely'][0] = NEW_House['Roomate-6 Size'][0]/NEW_House['Size'][0]\n",
    "\n",
    "X = NEW_House[['Rent','Roomate-1 Shapely', 'Roomate-2 Shapely', 'Roomate-3 Shapely',\n",
    "       'Roomate-4 Shapely', 'Roomate-5 Shapely', 'Roomate-6 Shapely']]\n",
    "\n",
    "Predict = RF.predict(X)\n",
    "\n",
    "print(\"Room- 1 Rent is:- \",Predict[0][0])\n",
    "print(\"Room- 2 Rent is:- \",Predict[0][1])\n",
    "print(\"Room- 3 Rent is:- \",Predict[0][2])\n",
    "print(\"Room- 4 Rent is:- \",Predict[0][3])\n",
    "print(\"Room- 5 Rent is:- \",Predict[0][4])\n",
    "print(\"Room- 6 Rent is:- \",Predict[0][5])"
   ]
  }
 ],
 "metadata": {
  "kernelspec": {
   "display_name": "Python 3 (ipykernel)",
   "language": "python",
   "name": "python3"
  },
  "language_info": {
   "codemirror_mode": {
    "name": "ipython",
    "version": 3
   },
   "file_extension": ".py",
   "mimetype": "text/x-python",
   "name": "python",
   "nbconvert_exporter": "python",
   "pygments_lexer": "ipython3",
   "version": "3.9.12"
  }
 },
 "nbformat": 4,
 "nbformat_minor": 5
}
