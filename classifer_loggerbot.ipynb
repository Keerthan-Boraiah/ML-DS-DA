{
 "cells": [
  {
   "cell_type": "markdown",
   "metadata": {},
   "source": [
    "### Code to train a neural network based on our loggerbot's csv output\n",
    "\n",
    "First we load the log file in csv format.  This assumes our columns are stored in the order exactly as below, and also that there is no contamination (e.g. other print statements) in the csv file:"
   ]
  },
  {
   "cell_type": "code",
   "execution_count": 1,
   "metadata": {},
   "outputs": [
    {
     "name": "stdout",
     "output_type": "stream",
     "text": [
      "   Turn  Try  PlayerID  PlayerName  MissionsBeenOn  FailedMissionsBeenOn  \\\n",
      "0     1    1         0  Logicalton               0                     0   \n",
      "1     2    1         0  Logicalton               1                     1   \n",
      "2     3    1         0  Logicalton               1                     1   \n",
      "3     1    1         1  Trickerton               0                     0   \n",
      "4     2    1         1  Trickerton               1                     1   \n",
      "\n",
      "   VotedUp0  VotedUp1  VotedUp2  VotedUp3  VotedUp4  VotedUp5  VotedDown0  \\\n",
      "0         1         0         0         0         0         0           0   \n",
      "1         1         1         0         0         0         0           0   \n",
      "2         1         2         0         0         0         0           0   \n",
      "3         1         0         0         0         0         0           0   \n",
      "4         1         1         0         0         0         0           0   \n",
      "\n",
      "   VotedDown1  VotedDown2  VotedDown3  VotedDown4  VotedDown5  Spy  \n",
      "0           0           0           0           0           0    1  \n",
      "1           0           0           0           0           0    1  \n",
      "2           0           0           0           0           0    1  \n",
      "3           0           0           0           0           0    0  \n",
      "4           0           0           0           0           0    0  \n"
     ]
    }
   ],
   "source": [
    "import pandas as pd\n",
    "# This assumes we've copied the log file (\"LoggerBot.log\") into our current working folder...\n",
    "df0=pd.read_csv(\"LoggerBot.log\",names=[\"Turn\",\"Try\",\"PlayerID\",\"PlayerName\",\"MissionsBeenOn\",\"FailedMissionsBeenOn\",\"VotedUp0\",\"VotedUp1\",\"VotedUp2\",\"VotedUp3\",\"VotedUp4\",\"VotedUp5\",\"VotedDown0\",\"VotedDown1\",\"VotedDown2\",\"VotedDown3\",\"VotedDown4\",\"VotedDown5\",\"Spy\"])"
   ]
  },
  {
   "cell_type": "code",
   "execution_count": 12,
   "metadata": {},
   "outputs": [
    {
     "name": "stdout",
     "output_type": "stream",
     "text": [
      "   Turn  Try  PlayerID  PlayerName  MissionsBeenOn  FailedMissionsBeenOn  \\\n",
      "0     1    1         0  Logicalton               0                     0   \n",
      "1     2    1         0  Logicalton               1                     1   \n",
      "2     3    1         0  Logicalton               1                     1   \n",
      "3     1    1         1  Trickerton               0                     0   \n",
      "4     2    1         1  Trickerton               1                     1   \n",
      "\n",
      "   VotedUp0  VotedUp1  VotedUp2  VotedUp3  VotedUp4  VotedUp5  VotedDown0  \\\n",
      "0         1         0         0         0         0         0           0   \n",
      "1         1         1         0         0         0         0           0   \n",
      "2         1         2         0         0         0         0           0   \n",
      "3         1         0         0         0         0         0           0   \n",
      "4         1         1         0         0         0         0           0   \n",
      "\n",
      "   VotedDown1  VotedDown2  VotedDown3  VotedDown4  VotedDown5  Spy  \n",
      "0           0           0           0           0           0    1  \n",
      "1           0           0           0           0           0    1  \n",
      "2           0           0           0           0           0    1  \n",
      "3           0           0           0           0           0    0  \n",
      "4           0           0           0           0           0    0  \n"
     ]
    }
   ],
   "source": [
    "# This next line just prints the first 5 rows of the loaded data, df0, which is a pandas dataframe object\n",
    "print(df0.head())"
   ]
  },
  {
   "cell_type": "code",
   "execution_count": 2,
   "metadata": {},
   "outputs": [
    {
     "name": "stdout",
     "output_type": "stream",
     "text": [
      "    Turn  Try  PlayerID PlayerName  MissionsBeenOn  FailedMissionsBeenOn  \\\n",
      "6      1    1         2    Bounder               0                     0   \n",
      "7      2    1         2    Bounder               0                     0   \n",
      "8      3    1         2    Bounder               1                     1   \n",
      "27     1    1         3    Bounder               0                     0   \n",
      "28     2    1         3    Bounder               0                     0   \n",
      "\n",
      "    VotedUp0  VotedUp1  VotedUp2  VotedUp3  VotedUp4  VotedUp5  VotedDown0  \\\n",
      "6          1         0         0         0         0         0           0   \n",
      "7          1         1         0         0         0         0           0   \n",
      "8          1         2         0         0         0         0           0   \n",
      "27         1         0         0         0         0         0           0   \n",
      "28         1         0         0         0         0         0           1   \n",
      "\n",
      "    VotedDown1  VotedDown2  VotedDown3  VotedDown4  VotedDown5  Spy  \n",
      "6            0           0           0           0           0    1  \n",
      "7            0           0           0           0           0    1  \n",
      "8            0           0           0           0           0    1  \n",
      "27           0           0           0           0           0    0  \n",
      "28           0           0           0           0           0    0  \n",
      "               Turn           Try      PlayerID  MissionsBeenOn  \\\n",
      "count  95991.000000  95991.000000  95991.000000    95991.000000   \n",
      "mean       2.743643      1.205269      2.005678        0.815806   \n",
      "std        1.279998      0.537280      1.415553        0.836170   \n",
      "min        1.000000      1.000000      0.000000        0.000000   \n",
      "25%        2.000000      1.000000      1.000000        0.000000   \n",
      "50%        3.000000      1.000000      2.000000        1.000000   \n",
      "75%        4.000000      1.000000      3.000000        1.000000   \n",
      "max        5.000000      5.000000      4.000000        4.000000   \n",
      "\n",
      "       FailedMissionsBeenOn      VotedUp0      VotedUp1      VotedUp2  \\\n",
      "count          95991.000000  95991.000000  95991.000000  95991.000000   \n",
      "mean               0.496984      1.300768      0.473451      0.227521   \n",
      "std                0.614094      0.564826      0.650675      0.497990   \n",
      "min                0.000000      1.000000      0.000000      0.000000   \n",
      "25%                0.000000      1.000000      0.000000      0.000000   \n",
      "50%                0.000000      1.000000      0.000000      0.000000   \n",
      "75%                1.000000      2.000000      1.000000      0.000000   \n",
      "max                2.000000      8.000000      6.000000      4.000000   \n",
      "\n",
      "           VotedUp3      VotedUp4      VotedUp5    VotedDown0    VotedDown1  \\\n",
      "count  95991.000000  95991.000000  95991.000000  95991.000000  95991.000000   \n",
      "mean       0.097238      0.022481      0.000823      0.390516      0.310039   \n",
      "std        0.332783      0.156183      0.028676      0.620677      0.579864   \n",
      "min        0.000000      0.000000      0.000000      0.000000      0.000000   \n",
      "25%        0.000000      0.000000      0.000000      0.000000      0.000000   \n",
      "50%        0.000000      0.000000      0.000000      0.000000      0.000000   \n",
      "75%        0.000000      0.000000      0.000000      1.000000      1.000000   \n",
      "max        3.000000      3.000000      1.000000      5.000000      8.000000   \n",
      "\n",
      "         VotedDown2    VotedDown3    VotedDown4    VotedDown5           Spy  \n",
      "count  95991.000000  95991.000000  95991.000000  95991.000000  95991.000000  \n",
      "mean       0.183944      0.106948      0.028794      0.000740      0.393808  \n",
      "std        0.478315      0.359360      0.176798      0.027943      0.488596  \n",
      "min        0.000000      0.000000      0.000000      0.000000      0.000000  \n",
      "25%        0.000000      0.000000      0.000000      0.000000      0.000000  \n",
      "50%        0.000000      0.000000      0.000000      0.000000      0.000000  \n",
      "75%        0.000000      0.000000      0.000000      0.000000      1.000000  \n",
      "max        6.000000      4.000000      3.000000      2.000000      1.000000  \n"
     ]
    }
   ],
   "source": [
    "# Let's take a subset of the data which only corresponds to the player \"Bounder\", \n",
    "# since bounder is hopefully quite representitive of a good player.  This decision to use only one bot\n",
    "# might not be optimal, but it simplifies things for now.\n",
    "df=df0.query(\"PlayerName=='Bounder'\") # we can filter a pandas dataframe very nicely like an SQL query!\n",
    "print(df.head()) #print the filtered dataset"
   ]
  },
  {
   "cell_type": "code",
   "execution_count": 11,
   "metadata": {},
   "outputs": [
    {
     "name": "stdout",
     "output_type": "stream",
     "text": [
      "               Turn           Try      PlayerID  MissionsBeenOn  \\\n",
      "count  95991.000000  95991.000000  95991.000000    95991.000000   \n",
      "mean       2.743643      1.205269      2.005678        0.815806   \n",
      "std        1.279998      0.537280      1.415553        0.836170   \n",
      "min        1.000000      1.000000      0.000000        0.000000   \n",
      "25%        2.000000      1.000000      1.000000        0.000000   \n",
      "50%        3.000000      1.000000      2.000000        1.000000   \n",
      "75%        4.000000      1.000000      3.000000        1.000000   \n",
      "max        5.000000      5.000000      4.000000        4.000000   \n",
      "\n",
      "       FailedMissionsBeenOn      VotedUp0      VotedUp1      VotedUp2  \\\n",
      "count          95991.000000  95991.000000  95991.000000  95991.000000   \n",
      "mean               0.496984      1.300768      0.473451      0.227521   \n",
      "std                0.614094      0.564826      0.650675      0.497990   \n",
      "min                0.000000      1.000000      0.000000      0.000000   \n",
      "25%                0.000000      1.000000      0.000000      0.000000   \n",
      "50%                0.000000      1.000000      0.000000      0.000000   \n",
      "75%                1.000000      2.000000      1.000000      0.000000   \n",
      "max                2.000000      8.000000      6.000000      4.000000   \n",
      "\n",
      "           VotedUp3      VotedUp4      VotedUp5    VotedDown0    VotedDown1  \\\n",
      "count  95991.000000  95991.000000  95991.000000  95991.000000  95991.000000   \n",
      "mean       0.097238      0.022481      0.000823      0.390516      0.310039   \n",
      "std        0.332783      0.156183      0.028676      0.620677      0.579864   \n",
      "min        0.000000      0.000000      0.000000      0.000000      0.000000   \n",
      "25%        0.000000      0.000000      0.000000      0.000000      0.000000   \n",
      "50%        0.000000      0.000000      0.000000      0.000000      0.000000   \n",
      "75%        0.000000      0.000000      0.000000      1.000000      1.000000   \n",
      "max        3.000000      3.000000      1.000000      5.000000      8.000000   \n",
      "\n",
      "         VotedDown2    VotedDown3    VotedDown4    VotedDown5           Spy  \n",
      "count  95991.000000  95991.000000  95991.000000  95991.000000  95991.000000  \n",
      "mean       0.183944      0.106948      0.028794      0.000740      0.393808  \n",
      "std        0.478315      0.359360      0.176798      0.027943      0.488596  \n",
      "min        0.000000      0.000000      0.000000      0.000000      0.000000  \n",
      "25%        0.000000      0.000000      0.000000      0.000000      0.000000  \n",
      "50%        0.000000      0.000000      0.000000      0.000000      0.000000  \n",
      "75%        0.000000      0.000000      0.000000      0.000000      1.000000  \n",
      "max        6.000000      4.000000      3.000000      2.000000      1.000000  \n"
     ]
    }
   ],
   "source": [
    "print(df.describe()) # print some key column information\n",
    "# This lets us visually inspect the columns to check there's no nan values in there or infinity values,\n",
    "# or anything else showing signs of data corruption...."
   ]
  },
  {
   "cell_type": "code",
   "execution_count": 3,
   "metadata": {},
   "outputs": [
    {
     "name": "stdout",
     "output_type": "stream",
     "text": [
      "(95991,)\n",
      "[1 1 1 0 0 0]\n",
      "[[0. 0. 1. 0. 0. 0. 0. 0. 0. 0. 0. 0. 0. 0.]\n",
      " [0. 0. 1. 1. 0. 0. 0. 0. 0. 0. 0. 0. 0. 0.]\n",
      " [1. 1. 1. 2. 0. 0. 0. 0. 0. 0. 0. 0. 0. 0.]\n",
      " [0. 0. 1. 0. 0. 0. 0. 0. 0. 0. 0. 0. 0. 0.]\n",
      " [0. 0. 1. 0. 0. 0. 0. 0. 1. 0. 0. 0. 0. 0.]\n",
      " [1. 1. 1. 0. 1. 0. 0. 0. 1. 0. 0. 0. 0. 0.]]\n"
     ]
    }
   ],
   "source": [
    "import numpy as np \n",
    "x_train=df.values[:,4:18].astype(np.float32) # This filters out only the columns we want to use as input vector for our NN.\n",
    "# Note [:,4:18] only includes columns 4 to 17 inclusive (it does not include column 18)\n",
    "y_train=df.values[:,18].astype(np.int32) # This is our target column.\n",
    "print(y_train.shape) # This is just a rank 1 array.\n",
    "print(y_train[0:6]) # first 6 entries of y.  Should be all 1s and zeros\n",
    "print(x_train[0:6]) # first 6 rows of x, our input vectors.\n",
    "num_inputs=x_train.shape[1] # this works out how many columns there are in x, i.e. how many inputs our network needs.\n",
    "num_outputs=2 # Two outputs needed - for \"spy\" or \"not spy\"."
   ]
  },
  {
   "cell_type": "code",
   "execution_count": null,
   "metadata": {},
   "outputs": [],
   "source": [
    "# Split the dataset into a training data set and a validation dataset.\n",
    "dataset_size=len(x_train)\n",
    "train_set_size=int(dataset_size*0.7) # choose 70% of the data for training and 30% for validation\n",
    "x_val,y_val=x_train[train_set_size:],y_train[train_set_size:]\n",
    "x_train,y_train=x_train[:train_set_size],y_train[:train_set_size]"
   ]
  },
  {
   "cell_type": "code",
   "execution_count": 4,
   "metadata": {},
   "outputs": [
    {
     "name": "stdout",
     "output_type": "stream",
     "text": [
      "tf.Tensor(\n",
      "[[-0.21325664 -0.3454425 ]\n",
      " [-0.12623107 -0.72564167]\n",
      " [-0.01867855 -0.9665941 ]], shape=(3, 2), dtype=float32)\n"
     ]
    }
   ],
   "source": [
    "# Build a keras model:\n",
    "import tensorflow as tf\n",
    "from tensorflow import keras\n",
    "from tensorflow.keras import layers\n",
    "\n",
    "# Define Sequential model with 3 layers\n",
    "model = keras.Sequential(name=\"my_neural_network\")\n",
    "layer1=layers.Dense(10, activation=\"tanh\", input_shape=(num_inputs,))\n",
    "model.add(layer1)\n",
    "layer2=layers.Dense(10, activation=\"tanh\")\n",
    "model.add(layer2)\n",
    "layer3=layers.Dense(num_outputs) #   No activation function here, we'll use from_logits=True below which implicitly adds the softmax into the training loss function.\n",
    "model.add(layer3)\n",
    "\n",
    "print(model(x_train[0:3])) # just check the NN is the correct shape for our training data, and see what comes out of it:"
   ]
  },
  {
   "cell_type": "code",
   "execution_count": 5,
   "metadata": {},
   "outputs": [],
   "source": [
    "# Do the usual business for keras training\n",
    "# It's a classification problem , so we need cross entropy here.\n",
    "model.compile(\n",
    "    optimizer=keras.optimizers.Adam(0.001),  # Optimizer\n",
    "    # Loss function to minimize\n",
    "    loss=keras.losses.SparseCategoricalCrossentropy(from_logits=True),\n",
    "    metrics='accuracy'\n",
    ")"
   ]
  },
  {
   "cell_type": "code",
   "execution_count": 6,
   "metadata": {},
   "outputs": [
    {
     "name": "stdout",
     "output_type": "stream",
     "text": [
      "Epoch 1/120\n",
      "1344/1344 [==============================] - 3s 2ms/step - loss: 0.4991 - accuracy: 0.7230 - val_loss: 0.4502 - val_accuracy: 0.7560\n",
      "Epoch 2/120\n",
      "1344/1344 [==============================] - 2s 2ms/step - loss: 0.4520 - accuracy: 0.7535 - val_loss: 0.4446 - val_accuracy: 0.7567\n",
      "Epoch 3/120\n",
      "1344/1344 [==============================] - 2s 2ms/step - loss: 0.4473 - accuracy: 0.7559 - val_loss: 0.4449 - val_accuracy: 0.7511\n",
      "Epoch 4/120\n",
      "1344/1344 [==============================] - 2s 2ms/step - loss: 0.4438 - accuracy: 0.7570 - val_loss: 0.4412 - val_accuracy: 0.7626\n",
      "Epoch 5/120\n",
      "1344/1344 [==============================] - 2s 2ms/step - loss: 0.4418 - accuracy: 0.7578 - val_loss: 0.4370 - val_accuracy: 0.7616\n",
      "Epoch 6/120\n",
      "1344/1344 [==============================] - 2s 2ms/step - loss: 0.4394 - accuracy: 0.7597 - val_loss: 0.4350 - val_accuracy: 0.7647\n",
      "Epoch 7/120\n",
      "1344/1344 [==============================] - 2s 2ms/step - loss: 0.4374 - accuracy: 0.7595 - val_loss: 0.4329 - val_accuracy: 0.7639\n",
      "Epoch 8/120\n",
      "1344/1344 [==============================] - 2s 2ms/step - loss: 0.4355 - accuracy: 0.7606 - val_loss: 0.4337 - val_accuracy: 0.7640\n",
      "Epoch 9/120\n",
      "1344/1344 [==============================] - 2s 2ms/step - loss: 0.4340 - accuracy: 0.7608 - val_loss: 0.4293 - val_accuracy: 0.7648\n",
      "Epoch 10/120\n",
      "1344/1344 [==============================] - 2s 2ms/step - loss: 0.4340 - accuracy: 0.7617 - val_loss: 0.4290 - val_accuracy: 0.7673\n",
      "Epoch 11/120\n",
      "1344/1344 [==============================] - 2s 2ms/step - loss: 0.4319 - accuracy: 0.7632 - val_loss: 0.4300 - val_accuracy: 0.7679\n",
      "Epoch 12/120\n",
      "1344/1344 [==============================] - 2s 2ms/step - loss: 0.4312 - accuracy: 0.7630 - val_loss: 0.4341 - val_accuracy: 0.7636\n",
      "Epoch 13/120\n",
      "1344/1344 [==============================] - 2s 2ms/step - loss: 0.4307 - accuracy: 0.7635 - val_loss: 0.4275 - val_accuracy: 0.7662\n",
      "Epoch 14/120\n",
      "1344/1344 [==============================] - 2s 2ms/step - loss: 0.4293 - accuracy: 0.7641 - val_loss: 0.4264 - val_accuracy: 0.7678\n",
      "Epoch 15/120\n",
      "1344/1344 [==============================] - 2s 2ms/step - loss: 0.4287 - accuracy: 0.7644 - val_loss: 0.4265 - val_accuracy: 0.7680\n",
      "Epoch 16/120\n",
      "1344/1344 [==============================] - 2s 2ms/step - loss: 0.4278 - accuracy: 0.7652 - val_loss: 0.4255 - val_accuracy: 0.7680\n",
      "Epoch 17/120\n",
      "1344/1344 [==============================] - 2s 2ms/step - loss: 0.4270 - accuracy: 0.7654 - val_loss: 0.4303 - val_accuracy: 0.7601\n",
      "Epoch 18/120\n",
      "1344/1344 [==============================] - 2s 2ms/step - loss: 0.4266 - accuracy: 0.7651 - val_loss: 0.4236 - val_accuracy: 0.7682\n",
      "Epoch 19/120\n",
      "1344/1344 [==============================] - 2s 2ms/step - loss: 0.4257 - accuracy: 0.7658 - val_loss: 0.4241 - val_accuracy: 0.7694\n",
      "Epoch 20/120\n",
      "1344/1344 [==============================] - 2s 2ms/step - loss: 0.4246 - accuracy: 0.7667 - val_loss: 0.4215 - val_accuracy: 0.7714\n",
      "Epoch 21/120\n",
      "1344/1344 [==============================] - 2s 2ms/step - loss: 0.4242 - accuracy: 0.7672 - val_loss: 0.4315 - val_accuracy: 0.7649\n",
      "Epoch 22/120\n",
      "1344/1344 [==============================] - 3s 2ms/step - loss: 0.4240 - accuracy: 0.7679 - val_loss: 0.4220 - val_accuracy: 0.7715\n",
      "Epoch 23/120\n",
      "1344/1344 [==============================] - 3s 2ms/step - loss: 0.4231 - accuracy: 0.7670 - val_loss: 0.4195 - val_accuracy: 0.7706\n",
      "Epoch 24/120\n",
      "1344/1344 [==============================] - 3s 2ms/step - loss: 0.4235 - accuracy: 0.7668 - val_loss: 0.4200 - val_accuracy: 0.7706\n",
      "Epoch 25/120\n",
      "1344/1344 [==============================] - 3s 2ms/step - loss: 0.4224 - accuracy: 0.7686 - val_loss: 0.4247 - val_accuracy: 0.7694\n",
      "Epoch 26/120\n",
      "1344/1344 [==============================] - 3s 2ms/step - loss: 0.4219 - accuracy: 0.7674 - val_loss: 0.4193 - val_accuracy: 0.7719\n",
      "Epoch 27/120\n",
      "1344/1344 [==============================] - 3s 2ms/step - loss: 0.4220 - accuracy: 0.7681 - val_loss: 0.4188 - val_accuracy: 0.7715\n",
      "Epoch 28/120\n",
      "1344/1344 [==============================] - 3s 2ms/step - loss: 0.4222 - accuracy: 0.7691 - val_loss: 0.4185 - val_accuracy: 0.7710\n",
      "Epoch 29/120\n",
      "1344/1344 [==============================] - 3s 2ms/step - loss: 0.4215 - accuracy: 0.7689 - val_loss: 0.4274 - val_accuracy: 0.7622\n",
      "Epoch 30/120\n",
      "1344/1344 [==============================] - 3s 2ms/step - loss: 0.4213 - accuracy: 0.7690 - val_loss: 0.4195 - val_accuracy: 0.7687\n",
      "Epoch 31/120\n",
      "1344/1344 [==============================] - 3s 2ms/step - loss: 0.4209 - accuracy: 0.7684 - val_loss: 0.4257 - val_accuracy: 0.7707\n",
      "Epoch 32/120\n",
      "1344/1344 [==============================] - 3s 2ms/step - loss: 0.4206 - accuracy: 0.7694 - val_loss: 0.4191 - val_accuracy: 0.7730\n",
      "Epoch 33/120\n",
      "1344/1344 [==============================] - 3s 2ms/step - loss: 0.4204 - accuracy: 0.7695 - val_loss: 0.4190 - val_accuracy: 0.7698\n",
      "Epoch 34/120\n",
      "1344/1344 [==============================] - 3s 2ms/step - loss: 0.4203 - accuracy: 0.7697 - val_loss: 0.4185 - val_accuracy: 0.7729\n",
      "Epoch 35/120\n",
      "1344/1344 [==============================] - 3s 2ms/step - loss: 0.4199 - accuracy: 0.7696 - val_loss: 0.4232 - val_accuracy: 0.7703\n",
      "Epoch 36/120\n",
      "1344/1344 [==============================] - 3s 2ms/step - loss: 0.4204 - accuracy: 0.7692 - val_loss: 0.4173 - val_accuracy: 0.7713\n",
      "Epoch 37/120\n",
      "1344/1344 [==============================] - 3s 2ms/step - loss: 0.4201 - accuracy: 0.7694 - val_loss: 0.4179 - val_accuracy: 0.7737\n",
      "Epoch 38/120\n",
      "1344/1344 [==============================] - 3s 2ms/step - loss: 0.4198 - accuracy: 0.7696 - val_loss: 0.4182 - val_accuracy: 0.7722\n",
      "Epoch 39/120\n",
      "1344/1344 [==============================] - 3s 2ms/step - loss: 0.4198 - accuracy: 0.7705 - val_loss: 0.4194 - val_accuracy: 0.7705\n",
      "Epoch 40/120\n",
      "1344/1344 [==============================] - 3s 2ms/step - loss: 0.4194 - accuracy: 0.7689 - val_loss: 0.4188 - val_accuracy: 0.7731\n",
      "Epoch 41/120\n",
      "1344/1344 [==============================] - 3s 2ms/step - loss: 0.4199 - accuracy: 0.7691 - val_loss: 0.4154 - val_accuracy: 0.7710\n",
      "Epoch 42/120\n",
      "1344/1344 [==============================] - 3s 2ms/step - loss: 0.4199 - accuracy: 0.7686 - val_loss: 0.4186 - val_accuracy: 0.7718\n",
      "Epoch 43/120\n",
      "1344/1344 [==============================] - 3s 2ms/step - loss: 0.4189 - accuracy: 0.7700 - val_loss: 0.4184 - val_accuracy: 0.7710\n",
      "Epoch 44/120\n",
      "1344/1344 [==============================] - 3s 2ms/step - loss: 0.4190 - accuracy: 0.7702 - val_loss: 0.4184 - val_accuracy: 0.7731\n",
      "Epoch 45/120\n",
      "1344/1344 [==============================] - 3s 2ms/step - loss: 0.4189 - accuracy: 0.7702 - val_loss: 0.4179 - val_accuracy: 0.7690\n",
      "Epoch 46/120\n",
      "1344/1344 [==============================] - 3s 2ms/step - loss: 0.4191 - accuracy: 0.7699 - val_loss: 0.4170 - val_accuracy: 0.7711\n",
      "Epoch 47/120\n",
      "1344/1344 [==============================] - 3s 2ms/step - loss: 0.4187 - accuracy: 0.7706 - val_loss: 0.4186 - val_accuracy: 0.7710\n",
      "Epoch 48/120\n",
      "1344/1344 [==============================] - 3s 2ms/step - loss: 0.4186 - accuracy: 0.7698 - val_loss: 0.4178 - val_accuracy: 0.7723\n",
      "Epoch 49/120\n",
      "1344/1344 [==============================] - 3s 2ms/step - loss: 0.4188 - accuracy: 0.7705 - val_loss: 0.4183 - val_accuracy: 0.7697\n",
      "Epoch 50/120\n",
      "1344/1344 [==============================] - 3s 2ms/step - loss: 0.4186 - accuracy: 0.7705 - val_loss: 0.4164 - val_accuracy: 0.7722\n",
      "Epoch 51/120\n",
      "1344/1344 [==============================] - 3s 2ms/step - loss: 0.4187 - accuracy: 0.7697 - val_loss: 0.4152 - val_accuracy: 0.7731\n",
      "Epoch 52/120\n",
      "1344/1344 [==============================] - 3s 2ms/step - loss: 0.4184 - accuracy: 0.7705 - val_loss: 0.4164 - val_accuracy: 0.7740\n",
      "Epoch 53/120\n",
      "1344/1344 [==============================] - 3s 2ms/step - loss: 0.4184 - accuracy: 0.7691 - val_loss: 0.4208 - val_accuracy: 0.7705\n",
      "Epoch 54/120\n",
      "1344/1344 [==============================] - 3s 2ms/step - loss: 0.4181 - accuracy: 0.7707 - val_loss: 0.4204 - val_accuracy: 0.7675\n",
      "Epoch 55/120\n",
      "1344/1344 [==============================] - 3s 2ms/step - loss: 0.4184 - accuracy: 0.7712 - val_loss: 0.4150 - val_accuracy: 0.7718\n",
      "Epoch 56/120\n",
      "1344/1344 [==============================] - 3s 2ms/step - loss: 0.4180 - accuracy: 0.7712 - val_loss: 0.4172 - val_accuracy: 0.7699\n",
      "Epoch 57/120\n",
      "1344/1344 [==============================] - 3s 2ms/step - loss: 0.4177 - accuracy: 0.7701 - val_loss: 0.4184 - val_accuracy: 0.7736\n",
      "Epoch 58/120\n",
      "1344/1344 [==============================] - 3s 2ms/step - loss: 0.4177 - accuracy: 0.7698 - val_loss: 0.4154 - val_accuracy: 0.7711\n",
      "Epoch 59/120\n",
      "1344/1344 [==============================] - 3s 2ms/step - loss: 0.4179 - accuracy: 0.7695 - val_loss: 0.4137 - val_accuracy: 0.7754\n",
      "Epoch 60/120\n",
      "1344/1344 [==============================] - 2s 2ms/step - loss: 0.4177 - accuracy: 0.7705 - val_loss: 0.4143 - val_accuracy: 0.7745\n",
      "Epoch 61/120\n",
      "1344/1344 [==============================] - 3s 2ms/step - loss: 0.4179 - accuracy: 0.7702 - val_loss: 0.4143 - val_accuracy: 0.7729\n",
      "Epoch 62/120\n",
      "1344/1344 [==============================] - 3s 2ms/step - loss: 0.4176 - accuracy: 0.7697 - val_loss: 0.4166 - val_accuracy: 0.7719\n",
      "Epoch 63/120\n",
      "1344/1344 [==============================] - 3s 2ms/step - loss: 0.4174 - accuracy: 0.7703 - val_loss: 0.4141 - val_accuracy: 0.7736\n",
      "Epoch 64/120\n",
      "1344/1344 [==============================] - 3s 2ms/step - loss: 0.4172 - accuracy: 0.7707 - val_loss: 0.4163 - val_accuracy: 0.7725\n",
      "Epoch 65/120\n",
      "1344/1344 [==============================] - 3s 2ms/step - loss: 0.4175 - accuracy: 0.7700 - val_loss: 0.4144 - val_accuracy: 0.7745\n",
      "Epoch 66/120\n",
      "1344/1344 [==============================] - 3s 2ms/step - loss: 0.4171 - accuracy: 0.7702 - val_loss: 0.4141 - val_accuracy: 0.7739\n",
      "Epoch 67/120\n",
      "1344/1344 [==============================] - 3s 2ms/step - loss: 0.4171 - accuracy: 0.7704 - val_loss: 0.4150 - val_accuracy: 0.7740\n",
      "Epoch 68/120\n",
      "1344/1344 [==============================] - 3s 2ms/step - loss: 0.4171 - accuracy: 0.7702 - val_loss: 0.4127 - val_accuracy: 0.7727\n",
      "Epoch 69/120\n",
      "1344/1344 [==============================] - 3s 2ms/step - loss: 0.4169 - accuracy: 0.7697 - val_loss: 0.4126 - val_accuracy: 0.7748\n",
      "Epoch 70/120\n",
      "1344/1344 [==============================] - 3s 2ms/step - loss: 0.4167 - accuracy: 0.7710 - val_loss: 0.4126 - val_accuracy: 0.7737\n",
      "Epoch 71/120\n",
      "1344/1344 [==============================] - 3s 2ms/step - loss: 0.4168 - accuracy: 0.7702 - val_loss: 0.4132 - val_accuracy: 0.7734\n",
      "Epoch 72/120\n",
      "1344/1344 [==============================] - 3s 2ms/step - loss: 0.4166 - accuracy: 0.7706 - val_loss: 0.4133 - val_accuracy: 0.7751\n",
      "Epoch 73/120\n",
      "1344/1344 [==============================] - 3s 2ms/step - loss: 0.4171 - accuracy: 0.7705 - val_loss: 0.4122 - val_accuracy: 0.7725\n",
      "Epoch 74/120\n",
      "1344/1344 [==============================] - 3s 2ms/step - loss: 0.4166 - accuracy: 0.7713 - val_loss: 0.4129 - val_accuracy: 0.7750\n",
      "Epoch 75/120\n",
      "1344/1344 [==============================] - 3s 2ms/step - loss: 0.4163 - accuracy: 0.7710 - val_loss: 0.4138 - val_accuracy: 0.7736\n",
      "Epoch 76/120\n",
      "1344/1344 [==============================] - 2s 2ms/step - loss: 0.4168 - accuracy: 0.7703 - val_loss: 0.4145 - val_accuracy: 0.7719\n",
      "Epoch 77/120\n",
      "1344/1344 [==============================] - 3s 2ms/step - loss: 0.4161 - accuracy: 0.7709 - val_loss: 0.4148 - val_accuracy: 0.7736\n",
      "Epoch 78/120\n",
      "1344/1344 [==============================] - 2s 2ms/step - loss: 0.4162 - accuracy: 0.7714 - val_loss: 0.4141 - val_accuracy: 0.7731\n",
      "Epoch 79/120\n",
      "1344/1344 [==============================] - 2s 2ms/step - loss: 0.4159 - accuracy: 0.7710 - val_loss: 0.4132 - val_accuracy: 0.7724\n",
      "Epoch 80/120\n",
      "1344/1344 [==============================] - 2s 2ms/step - loss: 0.4159 - accuracy: 0.7706 - val_loss: 0.4153 - val_accuracy: 0.7722\n",
      "Epoch 81/120\n",
      "1344/1344 [==============================] - 2s 2ms/step - loss: 0.4158 - accuracy: 0.7715 - val_loss: 0.4143 - val_accuracy: 0.7721\n",
      "Epoch 82/120\n",
      "1344/1344 [==============================] - 2s 2ms/step - loss: 0.4157 - accuracy: 0.7705 - val_loss: 0.4137 - val_accuracy: 0.7729\n",
      "Epoch 83/120\n",
      "1344/1344 [==============================] - 2s 2ms/step - loss: 0.4154 - accuracy: 0.7716 - val_loss: 0.4132 - val_accuracy: 0.7735\n",
      "Epoch 84/120\n",
      "1344/1344 [==============================] - 2s 2ms/step - loss: 0.4155 - accuracy: 0.7721 - val_loss: 0.4137 - val_accuracy: 0.7722\n",
      "Epoch 85/120\n",
      "1344/1344 [==============================] - 3s 2ms/step - loss: 0.4159 - accuracy: 0.7709 - val_loss: 0.4119 - val_accuracy: 0.7752\n",
      "Epoch 86/120\n",
      "1344/1344 [==============================] - 2s 2ms/step - loss: 0.4154 - accuracy: 0.7712 - val_loss: 0.4127 - val_accuracy: 0.7747\n",
      "Epoch 87/120\n",
      "1344/1344 [==============================] - 2s 2ms/step - loss: 0.4157 - accuracy: 0.7706 - val_loss: 0.4116 - val_accuracy: 0.7747\n",
      "Epoch 88/120\n",
      "1344/1344 [==============================] - 3s 2ms/step - loss: 0.4153 - accuracy: 0.7719 - val_loss: 0.4136 - val_accuracy: 0.7715\n",
      "Epoch 89/120\n",
      "1344/1344 [==============================] - 2s 2ms/step - loss: 0.4157 - accuracy: 0.7697 - val_loss: 0.4149 - val_accuracy: 0.7730\n",
      "Epoch 90/120\n",
      "1344/1344 [==============================] - 2s 2ms/step - loss: 0.4153 - accuracy: 0.7710 - val_loss: 0.4132 - val_accuracy: 0.7737\n",
      "Epoch 91/120\n",
      "1344/1344 [==============================] - 3s 2ms/step - loss: 0.4154 - accuracy: 0.7712 - val_loss: 0.4124 - val_accuracy: 0.7713\n",
      "Epoch 92/120\n",
      "1344/1344 [==============================] - 2s 2ms/step - loss: 0.4154 - accuracy: 0.7708 - val_loss: 0.4152 - val_accuracy: 0.7715\n",
      "Epoch 93/120\n",
      "1344/1344 [==============================] - 3s 2ms/step - loss: 0.4149 - accuracy: 0.7713 - val_loss: 0.4156 - val_accuracy: 0.7751\n",
      "Epoch 94/120\n",
      "1344/1344 [==============================] - 3s 2ms/step - loss: 0.4148 - accuracy: 0.7712 - val_loss: 0.4119 - val_accuracy: 0.7745\n",
      "Epoch 95/120\n",
      "1344/1344 [==============================] - 3s 2ms/step - loss: 0.4151 - accuracy: 0.7717 - val_loss: 0.4123 - val_accuracy: 0.7745\n",
      "Epoch 96/120\n",
      "1344/1344 [==============================] - 3s 2ms/step - loss: 0.4149 - accuracy: 0.7712 - val_loss: 0.4119 - val_accuracy: 0.7750\n",
      "Epoch 97/120\n",
      "1344/1344 [==============================] - 3s 2ms/step - loss: 0.4149 - accuracy: 0.7702 - val_loss: 0.4122 - val_accuracy: 0.7742\n",
      "Epoch 98/120\n",
      "1344/1344 [==============================] - 3s 2ms/step - loss: 0.4147 - accuracy: 0.7717 - val_loss: 0.4129 - val_accuracy: 0.7719\n",
      "Epoch 99/120\n",
      "1344/1344 [==============================] - 3s 2ms/step - loss: 0.4148 - accuracy: 0.7716 - val_loss: 0.4121 - val_accuracy: 0.7751\n",
      "Epoch 100/120\n",
      "1344/1344 [==============================] - 3s 2ms/step - loss: 0.4146 - accuracy: 0.7712 - val_loss: 0.4133 - val_accuracy: 0.7730\n",
      "Epoch 101/120\n",
      "1344/1344 [==============================] - 3s 2ms/step - loss: 0.4146 - accuracy: 0.7705 - val_loss: 0.4131 - val_accuracy: 0.7718\n",
      "Epoch 102/120\n",
      "1344/1344 [==============================] - 3s 2ms/step - loss: 0.4144 - accuracy: 0.7711 - val_loss: 0.4113 - val_accuracy: 0.7752\n",
      "Epoch 103/120\n",
      "1344/1344 [==============================] - 3s 2ms/step - loss: 0.4144 - accuracy: 0.7710 - val_loss: 0.4123 - val_accuracy: 0.7747\n",
      "Epoch 104/120\n",
      "1344/1344 [==============================] - 3s 2ms/step - loss: 0.4145 - accuracy: 0.7704 - val_loss: 0.4128 - val_accuracy: 0.7729\n",
      "Epoch 105/120\n",
      "1344/1344 [==============================] - 3s 2ms/step - loss: 0.4146 - accuracy: 0.7709 - val_loss: 0.4131 - val_accuracy: 0.7739\n",
      "Epoch 106/120\n",
      "1344/1344 [==============================] - 3s 2ms/step - loss: 0.4143 - accuracy: 0.7713 - val_loss: 0.4124 - val_accuracy: 0.7737\n",
      "Epoch 107/120\n",
      "1344/1344 [==============================] - 3s 2ms/step - loss: 0.4143 - accuracy: 0.7716 - val_loss: 0.4133 - val_accuracy: 0.7715\n",
      "Epoch 108/120\n",
      "1344/1344 [==============================] - 3s 2ms/step - loss: 0.4141 - accuracy: 0.7713 - val_loss: 0.4123 - val_accuracy: 0.7750\n",
      "Epoch 109/120\n",
      "1344/1344 [==============================] - 3s 2ms/step - loss: 0.4141 - accuracy: 0.7711 - val_loss: 0.4115 - val_accuracy: 0.7751\n",
      "Epoch 110/120\n",
      "1344/1344 [==============================] - 3s 2ms/step - loss: 0.4141 - accuracy: 0.7713 - val_loss: 0.4113 - val_accuracy: 0.7740\n",
      "Epoch 111/120\n",
      "1344/1344 [==============================] - 3s 2ms/step - loss: 0.4145 - accuracy: 0.7704 - val_loss: 0.4131 - val_accuracy: 0.7743\n",
      "Epoch 112/120\n",
      "1344/1344 [==============================] - 3s 2ms/step - loss: 0.4142 - accuracy: 0.7712 - val_loss: 0.4119 - val_accuracy: 0.7727\n",
      "Epoch 113/120\n"
     ]
    },
    {
     "name": "stdout",
     "output_type": "stream",
     "text": [
      "1344/1344 [==============================] - 3s 2ms/step - loss: 0.4138 - accuracy: 0.7707 - val_loss: 0.4133 - val_accuracy: 0.7730\n",
      "Epoch 114/120\n",
      "1344/1344 [==============================] - 3s 2ms/step - loss: 0.4139 - accuracy: 0.7711 - val_loss: 0.4115 - val_accuracy: 0.7736\n",
      "Epoch 115/120\n",
      "1344/1344 [==============================] - 3s 2ms/step - loss: 0.4141 - accuracy: 0.7716 - val_loss: 0.4126 - val_accuracy: 0.7742\n",
      "Epoch 116/120\n",
      "1344/1344 [==============================] - 3s 2ms/step - loss: 0.4137 - accuracy: 0.7721 - val_loss: 0.4150 - val_accuracy: 0.7713\n",
      "Epoch 117/120\n",
      "1344/1344 [==============================] - 3s 2ms/step - loss: 0.4137 - accuracy: 0.7720 - val_loss: 0.4114 - val_accuracy: 0.7735\n",
      "Epoch 118/120\n",
      "1344/1344 [==============================] - 3s 2ms/step - loss: 0.4138 - accuracy: 0.7711 - val_loss: 0.4147 - val_accuracy: 0.7735\n",
      "Epoch 119/120\n",
      "1344/1344 [==============================] - 3s 2ms/step - loss: 0.4139 - accuracy: 0.7705 - val_loss: 0.4117 - val_accuracy: 0.7728\n",
      "Epoch 120/120\n",
      "1344/1344 [==============================] - 3s 2ms/step - loss: 0.4138 - accuracy: 0.7713 - val_loss: 0.4105 - val_accuracy: 0.7750\n"
     ]
    }
   ],
   "source": [
    "# Do the usual business for keras training\n",
    "history = model.fit(\n",
    "    x_train,\n",
    "    y_train,\n",
    "    batch_size=50,\n",
    "    epochs=120,\n",
    "    validation_data=(x_val, y_val),verbose=1\n",
    ")"
   ]
  },
  {
   "cell_type": "code",
   "execution_count": 7,
   "metadata": {},
   "outputs": [
    {
     "data": {
      "image/png": "[encoded data removed]",
      "text/plain": [
       "<Figure size 432x288 with 1 Axes>"
      ]
     },
     "metadata": {
      "needs_background": "light"
     },
     "output_type": "display_data"
    }
   ],
   "source": [
    "# Plot our training curves. This is alwasy important to see if we've started to overfit or whether \n",
    "# we could benefit from more training cycles....\n",
    "import matplotlib.pyplot as plt\n",
    "plt.plot(history.history[\"accuracy\"], label=\"Training Accuracy\")\n",
    "plt.plot(history.history[\"val_accuracy\"],label=\"Validation Set Accuracy\")\n",
    "plt.legend()\n",
    "plt.grid()\n",
    "# The following graph should show about 77% accuracy."
   ]
  },
  {
   "cell_type": "code",
   "execution_count": 8,
   "metadata": {},
   "outputs": [
    {
     "name": "stdout",
     "output_type": "stream",
     "text": [
      "0.39325524980280685\n"
     ]
    }
   ],
   "source": [
    "# Calculate base rate accuracy\n",
    "print(y_train.mean())\n",
    "# This shows us what accuracy we could get if we just guess the same thing all the time.\n"
   ]
  },
  {
   "cell_type": "markdown",
   "metadata": {},
   "source": [
    "- In this game, since there are always 2 spies randomly chosen from a team of 5,  that is 2/5=40% of the time we could guess someone is a spy.  This matches the base rate above, very closely.   \n",
    "\n",
    "- However if we just wanted a simple fixed classifer to make the best fixed guess, by just saying  \"Not Spy\" all of the time we could score a whopping 60% accuracy!  So if our classifier can't beat  60% then we can say that it is rubbish.\n",
    "- Fortunately our classifer is scoring over 70% accuracy comfortably (as should be shown in the graph above)."
   ]
  },
  {
   "cell_type": "markdown",
   "metadata": {},
   "source": [
    "- In the next code block, I'd like to work out if our neural network's accuracy improves during each game.\n",
    "- For example, once we've seen several rounds of play we gather more clues as to who is a spy, so our accuracy should increase as each game goes on."
   ]
  },
  {
   "cell_type": "code",
   "execution_count": 9,
   "metadata": {},
   "outputs": [
    {
     "name": "stdout",
     "output_type": "stream",
     "text": [
      "maximum_turn 5\n",
      "tf.Tensor([0 1 2 3 4], shape=(5,), dtype=int64) [0.7739684, 0.79426914, 0.8123368, 0.82592475, 0.8316595]\n"
     ]
    },
    {
     "data": {
      "image/png": "[encoded data removed]",
      "text/plain": [
       "<Figure size 432x288 with 1 Axes>"
      ]
     },
     "metadata": {
      "needs_background": "light"
     },
     "output_type": "display_data"
    }
   ],
   "source": [
    "accuracy_by_turn=[]\n",
    "maximum_turn=df['Turn'].max()\n",
    "accuracy_metric=tf.keras.metrics.Accuracy()\n",
    "print(\"maximum_turn\",maximum_turn)\n",
    "for turn in range(1,maximum_turn+1):\n",
    "    df_restricted=df.query('Turn>='+str(turn)) # Pull out just those rows of the training data corresponding to later turns in the game\n",
    "    \n",
    "    x=df_restricted.values[:,4:18].astype(np.float32)\n",
    "    y=df_restricted.values[:,18].astype(np.int32)\n",
    "    y_guess=model(x)\n",
    "    y_guess=tf.argmax(y_guess,axis=1)\n",
    "    #accuracy=tf.reduce_mean(tf.cast(tf.equal(y,y_guess),tf.float32)) # This formula owuld also give us the accuracy but this is hand-evaluated.\n",
    "    accuracy=accuracy_metric(y_guess,y) # This function calculates accuracy using an in-built keras function.\n",
    "    accuracy_by_turn.append(accuracy.numpy()) # record the results so we can plot them.\n",
    "print(tf.range(maximum_turn),accuracy_by_turn)\n",
    "plt.plot(tf.range(1,1+len(accuracy_by_turn)),accuracy_by_turn)\n",
    "plt.title('Accuracy at identifying whether \"Bounder\" is a spy as the game progresses')\n",
    "plt.xlabel('Turn')\n",
    "plt.ylabel('Accuracy')\n",
    "plt.grid()"
   ]
  },
  {
   "cell_type": "code",
   "execution_count": 10,
   "metadata": {},
   "outputs": [
    {
     "name": "stdout",
     "output_type": "stream",
     "text": [
      "WARNING:tensorflow:From /home/mike/.local/lib/python3.8/site-packages/tensorflow/python/training/tracking/tracking.py:111: Model.state_updates (from tensorflow.python.keras.engine.training) is deprecated and will be removed in a future version.\n",
      "Instructions for updating:\n",
      "This property should not be used in TensorFlow 2.0, as updates are applied automatically.\n",
      "WARNING:tensorflow:From /home/mike/.local/lib/python3.8/site-packages/tensorflow/python/training/tracking/tracking.py:111: Layer.updates (from tensorflow.python.keras.engine.base_layer) is deprecated and will be removed in a future version.\n",
      "Instructions for updating:\n",
      "This property should not be used in TensorFlow 2.0, as updates are applied automatically.\n",
      "INFO:tensorflow:Assets written to: loggerbot_classifier/assets\n"
     ]
    }
   ],
   "source": [
    "# Finally, save our model so we can build a resistance-bot that plays using this neural network.\n",
    "model.save('loggerbot_classifier')"
   ]
  }
 ],
 "metadata": {
  "kernelspec": {
   "display_name": "Python 3 (ipykernel)",
   "language": "python",
   "name": "python3"
  },
  "language_info": {
   "codemirror_mode": {
    "name": "ipython",
    "version": 3
   },
   "file_extension": ".py",
   "mimetype": "text/x-python",
   "name": "python",
   "nbconvert_exporter": "python",
   "pygments_lexer": "ipython3",
   "version": "3.9.12"
  }
 },
 "nbformat": 4,
 "nbformat_minor": 4
}
