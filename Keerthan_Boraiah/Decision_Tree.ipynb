{
 "cells": [
  {
   "cell_type": "code",
   "execution_count": 3,
   "id": "a310d5b5",
   "metadata": {},
   "outputs": [],
   "source": [
    "import pandas as pd\n",
    "from sklearn.model_selection import train_test_split\n",
    "from sklearn.tree import DecisionTreeClassifier\n",
    "from sklearn.metrics import classification_report\n",
    "from sklearn.metrics import confusion_matrix\n",
    "from sklearn.metrics import accuracy_score\n",
    "import pickle"
   ]
  },
  {
   "cell_type": "code",
   "execution_count": 4,
   "id": "f4172cae",
   "metadata": {},
   "outputs": [],
   "source": [
    "df = pd.read_csv(r'C:\\Users\\pc\\Desktop\\Assignment\\PreProcessed Data.csv')"
   ]
  },
  {
   "cell_type": "code",
   "execution_count": 5,
   "id": "b52f12b5",
   "metadata": {},
   "outputs": [],
   "source": [
    "#Independent Variable and Dependent Variable split\n",
    "X = df.drop('Spy',axis = 1)\n",
    "y = df['Spy']\n",
    "x_training_data, x_test_data, y_training_data, y_test_data = train_test_split(X, y, test_size = 0.3)"
   ]
  },
  {
   "cell_type": "code",
   "execution_count": 6,
   "id": "d0b790a1",
   "metadata": {},
   "outputs": [],
   "source": [
    "model = DecisionTreeClassifier()\n",
    "model.fit(x_training_data, y_training_data)\n",
    "predictions = model.predict(x_test_data)"
   ]
  },
  {
   "cell_type": "code",
   "execution_count": 7,
   "id": "db3c5566",
   "metadata": {},
   "outputs": [
    {
     "name": "stdout",
     "output_type": "stream",
     "text": [
      "              precision    recall  f1-score   support\n",
      "\n",
      "           0       0.75      0.75      0.75      2369\n",
      "           1       0.64      0.65      0.65      1669\n",
      "\n",
      "    accuracy                           0.71      4038\n",
      "   macro avg       0.70      0.70      0.70      4038\n",
      "weighted avg       0.71      0.71      0.71      4038\n",
      "\n",
      "Confusion Matrix is:-  [[1768  601]\n",
      " [ 586 1083]]\n",
      "Accuracy is:-  0.7060425953442299\n"
     ]
    }
   ],
   "source": [
    "print(classification_report(y_test_data, predictions))\n",
    "print('Confusion Matrix is:- ',confusion_matrix(y_test_data, predictions))\n",
    "print('Accuracy is:- ', accuracy_score(y_test_data, predictions))"
   ]
  },
  {
   "cell_type": "code",
   "execution_count": 8,
   "id": "2b3f13db",
   "metadata": {},
   "outputs": [],
   "source": [
    "from joblib import dump, load"
   ]
  },
  {
   "cell_type": "code",
   "execution_count": 11,
   "id": "242d571e",
   "metadata": {},
   "outputs": [
    {
     "data": {
      "text/plain": [
       "['DT.joblib']"
      ]
     },
     "execution_count": 11,
     "metadata": {},
     "output_type": "execute_result"
    }
   ],
   "source": [
    "dump(model, 'Decision_Tree.joblib')"
   ]
  },
  {
   "cell_type": "code",
   "execution_count": null,
   "id": "9d59e68b",
   "metadata": {},
   "outputs": [],
   "source": [
    "#clf = load('filename.joblib')"
   ]
  },
  {
   "cell_type": "code",
   "execution_count": null,
   "id": "81871d1e",
   "metadata": {},
   "outputs": [],
   "source": []
  }
 ],
 "metadata": {
  "kernelspec": {
   "display_name": "Python 3 (ipykernel)",
   "language": "python",
   "name": "python3"
  },
  "language_info": {
   "codemirror_mode": {
    "name": "ipython",
    "version": 3
   },
   "file_extension": ".py",
   "mimetype": "text/x-python",
   "name": "python",
   "nbconvert_exporter": "python",
   "pygments_lexer": "ipython3",
   "version": "3.9.12"
  }
 },
 "nbformat": 4,
 "nbformat_minor": 5
}
