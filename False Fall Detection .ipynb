{
 "cells": [
  {
   "cell_type": "code",
   "execution_count": 1,
   "id": "c1dd7c0f",
   "metadata": {},
   "outputs": [],
   "source": [
    "import pandas as pd\n",
    "import numpy as np\n",
    "import matplotlib.pyplot as plt\n",
    "import seaborn as sns\n",
    "import math\n",
    "import glob\n",
    "import os\n",
    "import time\n",
    "\n",
    "from sklearn.model_selection import train_test_split\n",
    "from sklearn.ensemble import RandomForestClassifier\n",
    "from sklearn.metrics import classification_report\n",
    "\n",
    "import warnings\n",
    "warnings.filterwarnings('ignore')"
   ]
  },
  {
   "cell_type": "code",
   "execution_count": 2,
   "id": "04df10de",
   "metadata": {},
   "outputs": [
    {
     "data": {
      "text/plain": [
       "['F:\\\\DPS\\\\Fareed\\\\UMAFall_Dataset\\\\UMAFall_Subject_01_ADL_Aplausing_1_2017-04-14_23-38-23.csv',\n",
       " 'F:\\\\DPS\\\\Fareed\\\\UMAFall_Dataset\\\\UMAFall_Subject_01_ADL_HandsUp_1_2017-04-14_23-32-44.csv',\n",
       " 'F:\\\\DPS\\\\Fareed\\\\UMAFall_Dataset\\\\UMAFall_Subject_01_ADL_MakingACall_1_2017-04-14_23-30-27.csv',\n",
       " 'F:\\\\DPS\\\\Fareed\\\\UMAFall_Dataset\\\\UMAFall_Subject_01_ADL_OpeningDoor_1_2017-04-14_23-35-12.csv',\n",
       " 'F:\\\\DPS\\\\Fareed\\\\UMAFall_Dataset\\\\UMAFall_Subject_01_ADL_Sitting_GettingUpOnAChair_1_2017-04-14_23-28-16.csv',\n",
       " 'F:\\\\DPS\\\\Fareed\\\\UMAFall_Dataset\\\\UMAFall_Subject_01_ADL_Walking_2_2017-04-14_23-26-33.csv']"
      ]
     },
     "execution_count": 2,
     "metadata": {},
     "output_type": "execute_result"
    }
   ],
   "source": [
    "file_names = glob.glob(os.path.join(r'F:\\DPS\\Fareed\\UMAFall_Dataset', \"*\"))\n",
    "file_names = [file_names[0],file_names[3],file_names[6],file_names[9],file_names[13],file_names[17]]\n",
    "file_names"
   ]
  },
  {
   "cell_type": "code",
   "execution_count": 3,
   "id": "3a0fc08a",
   "metadata": {},
   "outputs": [
    {
     "name": "stdout",
     "output_type": "stream",
     "text": [
      "Number of Files completed are:-  1\n",
      "Number of Files completed are:-  2\n",
      "Number of Files completed are:-  3\n",
      "Number of Files completed are:-  4\n",
      "Number of Files completed are:-  5\n",
      "Total Execution time is:- 448.605786 seconds\n"
     ]
    }
   ],
   "source": [
    "#Data \n",
    "final_data = pd.DataFrame()\n",
    "\n",
    "#count to check how many files processed and are merged\n",
    "count = 0\n",
    "\n",
    "#get all csv files from the folder\n",
    "#file_names = glob.glob(os.path.join(r'F:\\DPS\\Fareed\\UMAFall_Dataset', \"*\"))\n",
    "\n",
    "#Start time count to check execution time\n",
    "start_time = time.time()\n",
    "\n",
    "for i in range(5):\n",
    "    \n",
    "    data = pd.read_csv(file_names[i])\n",
    "    a = data.head(32)\n",
    "    a.loc[-1] = a.columns.values\n",
    "    a.sort_index(inplace=True)\n",
    "    a.reset_index(drop=True, inplace=True)\n",
    "    data = data.iloc[32:]\n",
    "    data.reset_index(drop=True, inplace=True)\n",
    "    \n",
    "    #Attribiutes\n",
    "    name = str(a.values[3]).replace(\" \", \"\")[8:-2]\n",
    "    age = str(a.values[4]).replace(\" \", \"\")[7:-2]\n",
    "    gender = str(a.values[7]).replace(\" \", \"\")[10:-2]\n",
    "    movement = str(a.values[8]).replace(\" \", \"\")[18:-2]\n",
    "    movementboolean = str(a.values[9]).replace(\" \", \"\")[18:-2]\n",
    "    movementdescription = str(a.values[10]).replace(\" \", \"\")[28:-2]\n",
    "    \n",
    "    new_data = pd.DataFrame(index = range(data.shape[0]))\n",
    "    new_data['Name'] = name\n",
    "    new_data['Age'] = age\n",
    "    new_data['Gender'] = gender\n",
    "    new_data['Movement'] = movement\n",
    "    new_data['Timestamp'] = 0\n",
    "    new_data['Sample_no'] = 0\n",
    "    new_data['Accelerometer'] = 0\n",
    "    new_data['Gyroscope'] = 0\n",
    "    new_data['Magnetometer'] = 0\n",
    "    new_data['Movement_bool'] = movementboolean\n",
    "    new_data['Movement_description'] = movementdescription\n",
    "    \n",
    "    for i in range(len(data.values)):\n",
    "        b = list(map(float,list(data.iloc[i])[0].replace(\";\",\",\").split(\",\")))\n",
    "        new_data['Timestamp'][i] = b[0]\n",
    "        new_data['Sample_no'][i] = b[1]\n",
    "        new_data['Accelerometer'][i] = b[2]\n",
    "        new_data['Gyroscope'][i] = b[3]\n",
    "        new_data['Magnetometer'][i] = b[4]\n",
    "    \n",
    "    final_data = final_data.append(new_data)\n",
    "    final_data.reset_index(drop = True, inplace = True)\n",
    "    count = count + 1\n",
    "    print(\"Number of Files completed are:- \",count)\n",
    "end_time = time.time()\n",
    "execution_time = end_time - start_time\n",
    "print(f\"Total Execution time is:- {execution_time:.6f} seconds\")"
   ]
  },
  {
   "cell_type": "markdown",
   "id": "9e1cc8a8",
   "metadata": {},
   "source": [
    "# Data Preprocessing"
   ]
  },
  {
   "cell_type": "code",
   "execution_count": 4,
   "id": "9059deef",
   "metadata": {},
   "outputs": [
    {
     "data": {
      "text/html": [
       "<div>\n",
       "<style scoped>\n",
       "    .dataframe tbody tr th:only-of-type {\n",
       "        vertical-align: middle;\n",
       "    }\n",
       "\n",
       "    .dataframe tbody tr th {\n",
       "        vertical-align: top;\n",
       "    }\n",
       "\n",
       "    .dataframe thead th {\n",
       "        text-align: right;\n",
       "    }\n",
       "</style>\n",
       "<table border=\"1\" class=\"dataframe\">\n",
       "  <thead>\n",
       "    <tr style=\"text-align: right;\">\n",
       "      <th></th>\n",
       "      <th>Name</th>\n",
       "      <th>Age</th>\n",
       "      <th>Gender</th>\n",
       "      <th>Movement</th>\n",
       "      <th>Timestamp</th>\n",
       "      <th>Sample_no</th>\n",
       "      <th>Accelerometer</th>\n",
       "      <th>Gyroscope</th>\n",
       "      <th>Magnetometer</th>\n",
       "      <th>Movement_bool</th>\n",
       "      <th>Movement_description</th>\n",
       "    </tr>\n",
       "  </thead>\n",
       "  <tbody>\n",
       "    <tr>\n",
       "      <th>0</th>\n",
       "      <td>Subject_01</td>\n",
       "      <td>67</td>\n",
       "      <td>F</td>\n",
       "      <td>ADL</td>\n",
       "      <td>102</td>\n",
       "      <td>1</td>\n",
       "      <td>-0.138750</td>\n",
       "      <td>0.886872</td>\n",
       "      <td>0.331029</td>\n",
       "      <td>FALSE</td>\n",
       "      <td>Aplausing</td>\n",
       "    </tr>\n",
       "    <tr>\n",
       "      <th>1</th>\n",
       "      <td>Subject_01</td>\n",
       "      <td>67</td>\n",
       "      <td>F</td>\n",
       "      <td>ADL</td>\n",
       "      <td>102</td>\n",
       "      <td>2</td>\n",
       "      <td>-0.138140</td>\n",
       "      <td>0.886507</td>\n",
       "      <td>0.332372</td>\n",
       "      <td>FALSE</td>\n",
       "      <td>Aplausing</td>\n",
       "    </tr>\n",
       "    <tr>\n",
       "      <th>2</th>\n",
       "      <td>Subject_01</td>\n",
       "      <td>67</td>\n",
       "      <td>F</td>\n",
       "      <td>ADL</td>\n",
       "      <td>102</td>\n",
       "      <td>3</td>\n",
       "      <td>-0.134844</td>\n",
       "      <td>0.889558</td>\n",
       "      <td>0.331150</td>\n",
       "      <td>FALSE</td>\n",
       "      <td>Aplausing</td>\n",
       "    </tr>\n",
       "    <tr>\n",
       "      <th>3</th>\n",
       "      <td>Subject_01</td>\n",
       "      <td>67</td>\n",
       "      <td>F</td>\n",
       "      <td>ADL</td>\n",
       "      <td>102</td>\n",
       "      <td>4</td>\n",
       "      <td>-0.140215</td>\n",
       "      <td>0.886628</td>\n",
       "      <td>0.333714</td>\n",
       "      <td>FALSE</td>\n",
       "      <td>Aplausing</td>\n",
       "    </tr>\n",
       "    <tr>\n",
       "      <th>4</th>\n",
       "      <td>Subject_01</td>\n",
       "      <td>67</td>\n",
       "      <td>F</td>\n",
       "      <td>ADL</td>\n",
       "      <td>102</td>\n",
       "      <td>5</td>\n",
       "      <td>-0.139117</td>\n",
       "      <td>0.886262</td>\n",
       "      <td>0.334568</td>\n",
       "      <td>FALSE</td>\n",
       "      <td>Aplausing</td>\n",
       "    </tr>\n",
       "    <tr>\n",
       "      <th>...</th>\n",
       "      <td>...</td>\n",
       "      <td>...</td>\n",
       "      <td>...</td>\n",
       "      <td>...</td>\n",
       "      <td>...</td>\n",
       "      <td>...</td>\n",
       "      <td>...</td>\n",
       "      <td>...</td>\n",
       "      <td>...</td>\n",
       "      <td>...</td>\n",
       "      <td>...</td>\n",
       "    </tr>\n",
       "    <tr>\n",
       "      <th>32829</th>\n",
       "      <td>Subject_01</td>\n",
       "      <td>67</td>\n",
       "      <td>F</td>\n",
       "      <td>ADL</td>\n",
       "      <td>14761</td>\n",
       "      <td>296</td>\n",
       "      <td>-102.666664</td>\n",
       "      <td>-6.166667</td>\n",
       "      <td>70.666664</td>\n",
       "      <td>FALSE</td>\n",
       "      <td>Sitting_GettingUpOnAChair</td>\n",
       "    </tr>\n",
       "    <tr>\n",
       "      <th>32830</th>\n",
       "      <td>Subject_01</td>\n",
       "      <td>67</td>\n",
       "      <td>F</td>\n",
       "      <td>ADL</td>\n",
       "      <td>14809</td>\n",
       "      <td>297</td>\n",
       "      <td>-102.666664</td>\n",
       "      <td>-6.166667</td>\n",
       "      <td>70.666664</td>\n",
       "      <td>FALSE</td>\n",
       "      <td>Sitting_GettingUpOnAChair</td>\n",
       "    </tr>\n",
       "    <tr>\n",
       "      <th>32831</th>\n",
       "      <td>Subject_01</td>\n",
       "      <td>67</td>\n",
       "      <td>F</td>\n",
       "      <td>ADL</td>\n",
       "      <td>14862</td>\n",
       "      <td>298</td>\n",
       "      <td>-102.666664</td>\n",
       "      <td>-6.166667</td>\n",
       "      <td>70.666664</td>\n",
       "      <td>FALSE</td>\n",
       "      <td>Sitting_GettingUpOnAChair</td>\n",
       "    </tr>\n",
       "    <tr>\n",
       "      <th>32832</th>\n",
       "      <td>Subject_01</td>\n",
       "      <td>67</td>\n",
       "      <td>F</td>\n",
       "      <td>ADL</td>\n",
       "      <td>14912</td>\n",
       "      <td>299</td>\n",
       "      <td>-102.666664</td>\n",
       "      <td>-6.166667</td>\n",
       "      <td>70.666664</td>\n",
       "      <td>FALSE</td>\n",
       "      <td>Sitting_GettingUpOnAChair</td>\n",
       "    </tr>\n",
       "    <tr>\n",
       "      <th>32833</th>\n",
       "      <td>Subject_01</td>\n",
       "      <td>67</td>\n",
       "      <td>F</td>\n",
       "      <td>ADL</td>\n",
       "      <td>14957</td>\n",
       "      <td>300</td>\n",
       "      <td>-102.666664</td>\n",
       "      <td>-6.166667</td>\n",
       "      <td>70.666664</td>\n",
       "      <td>FALSE</td>\n",
       "      <td>Sitting_GettingUpOnAChair</td>\n",
       "    </tr>\n",
       "  </tbody>\n",
       "</table>\n",
       "<p>32834 rows × 11 columns</p>\n",
       "</div>"
      ],
      "text/plain": [
       "             Name Age Gender Movement  Timestamp  Sample_no  Accelerometer  \\\n",
       "0      Subject_01  67      F      ADL        102          1      -0.138750   \n",
       "1      Subject_01  67      F      ADL        102          2      -0.138140   \n",
       "2      Subject_01  67      F      ADL        102          3      -0.134844   \n",
       "3      Subject_01  67      F      ADL        102          4      -0.140215   \n",
       "4      Subject_01  67      F      ADL        102          5      -0.139117   \n",
       "...           ...  ..    ...      ...        ...        ...            ...   \n",
       "32829  Subject_01  67      F      ADL      14761        296    -102.666664   \n",
       "32830  Subject_01  67      F      ADL      14809        297    -102.666664   \n",
       "32831  Subject_01  67      F      ADL      14862        298    -102.666664   \n",
       "32832  Subject_01  67      F      ADL      14912        299    -102.666664   \n",
       "32833  Subject_01  67      F      ADL      14957        300    -102.666664   \n",
       "\n",
       "       Gyroscope  Magnetometer Movement_bool       Movement_description  \n",
       "0       0.886872      0.331029         FALSE                  Aplausing  \n",
       "1       0.886507      0.332372         FALSE                  Aplausing  \n",
       "2       0.889558      0.331150         FALSE                  Aplausing  \n",
       "3       0.886628      0.333714         FALSE                  Aplausing  \n",
       "4       0.886262      0.334568         FALSE                  Aplausing  \n",
       "...          ...           ...           ...                        ...  \n",
       "32829  -6.166667     70.666664         FALSE  Sitting_GettingUpOnAChair  \n",
       "32830  -6.166667     70.666664         FALSE  Sitting_GettingUpOnAChair  \n",
       "32831  -6.166667     70.666664         FALSE  Sitting_GettingUpOnAChair  \n",
       "32832  -6.166667     70.666664         FALSE  Sitting_GettingUpOnAChair  \n",
       "32833  -6.166667     70.666664         FALSE  Sitting_GettingUpOnAChair  \n",
       "\n",
       "[32834 rows x 11 columns]"
      ]
     },
     "execution_count": 4,
     "metadata": {},
     "output_type": "execute_result"
    }
   ],
   "source": [
    "final_data"
   ]
  },
  {
   "cell_type": "code",
   "execution_count": 5,
   "id": "0d0a8c17",
   "metadata": {},
   "outputs": [
    {
     "data": {
      "text/plain": [
       "(32834, 11)"
      ]
     },
     "execution_count": 5,
     "metadata": {},
     "output_type": "execute_result"
    }
   ],
   "source": [
    "final_data.shape"
   ]
  },
  {
   "cell_type": "code",
   "execution_count": 6,
   "id": "16176525",
   "metadata": {},
   "outputs": [
    {
     "data": {
      "text/plain": [
       "Name                    0\n",
       "Age                     0\n",
       "Gender                  0\n",
       "Movement                0\n",
       "Timestamp               0\n",
       "Sample_no               0\n",
       "Accelerometer           0\n",
       "Gyroscope               0\n",
       "Magnetometer            0\n",
       "Movement_bool           0\n",
       "Movement_description    0\n",
       "dtype: int64"
      ]
     },
     "execution_count": 6,
     "metadata": {},
     "output_type": "execute_result"
    }
   ],
   "source": [
    "#Checking Null values\n",
    "final_data.isnull().sum()\n",
    "\n",
    "#There are no null values cause each and every csv that are merged has entire data complete samples"
   ]
  },
  {
   "cell_type": "code",
   "execution_count": 7,
   "id": "3c3f4fcb",
   "metadata": {},
   "outputs": [
    {
     "data": {
      "text/plain": [
       "0"
      ]
     },
     "execution_count": 7,
     "metadata": {},
     "output_type": "execute_result"
    }
   ],
   "source": [
    "#Checking Duplicates\n",
    "final_data.duplicated().sum()\n",
    "\n",
    "#There are no duplicates cause each and every csv have different samples recorded"
   ]
  },
  {
   "cell_type": "code",
   "execution_count": 8,
   "id": "46ba9fa5",
   "metadata": {},
   "outputs": [
    {
     "data": {
      "text/plain": [
       "Name                     object\n",
       "Age                      object\n",
       "Gender                   object\n",
       "Movement                 object\n",
       "Timestamp                 int64\n",
       "Sample_no                 int64\n",
       "Accelerometer           float64\n",
       "Gyroscope               float64\n",
       "Magnetometer            float64\n",
       "Movement_bool            object\n",
       "Movement_description     object\n",
       "dtype: object"
      ]
     },
     "execution_count": 8,
     "metadata": {},
     "output_type": "execute_result"
    }
   ],
   "source": [
    "#Checking Variable types\n",
    "final_data.dtypes\n",
    "\n",
    "#Ignore some object types and foucs on Accelerometer,Gyroscope,Magnetometer,Movement_description, cause they are the one we \n",
    "#fit to model"
   ]
  },
  {
   "cell_type": "code",
   "execution_count": 9,
   "id": "709526e6",
   "metadata": {},
   "outputs": [
    {
     "data": {
      "text/plain": [
       "array(['Aplausing', 'HandsUp', 'MakingACall', 'OpeningDoor',\n",
       "       'Sitting_GettingUpOnAChair'], dtype=object)"
      ]
     },
     "execution_count": 9,
     "metadata": {},
     "output_type": "execute_result"
    }
   ],
   "source": [
    "#Check all type of movement so we can convert them to a numerical value\n",
    "final_data['Movement_description'].unique()"
   ]
  },
  {
   "cell_type": "code",
   "execution_count": 10,
   "id": "d85d4d63",
   "metadata": {},
   "outputs": [],
   "source": [
    "#Converting Categorical varioable into numerical variable manually\n",
    "def mapping_variables(x):\n",
    "    if x == 'Aplausing':\n",
    "        return 1\n",
    "    elif x == 'HandsUp':\n",
    "        return 2\n",
    "    elif x == 'MakingACall':\n",
    "        return 3\n",
    "    elif x == '':\n",
    "        return 4\n",
    "    elif x == 'OpeningDoor':\n",
    "        return 5\n",
    "    elif x == 'Sitting_GettingUpOnAChair':\n",
    "        return 6\n",
    "    else:\n",
    "        return 7\n",
    "final_data['Movement_description'] = final_data['Movement_description'].apply(mapping_variables)"
   ]
  },
  {
   "cell_type": "code",
   "execution_count": 11,
   "id": "e57934e9",
   "metadata": {},
   "outputs": [
    {
     "data": {
      "text/plain": [
       "Name                     object\n",
       "Age                      object\n",
       "Gender                   object\n",
       "Movement                 object\n",
       "Timestamp                 int64\n",
       "Sample_no                 int64\n",
       "Accelerometer           float64\n",
       "Gyroscope               float64\n",
       "Magnetometer            float64\n",
       "Movement_bool            object\n",
       "Movement_description      int64\n",
       "dtype: object"
      ]
     },
     "execution_count": 11,
     "metadata": {},
     "output_type": "execute_result"
    }
   ],
   "source": [
    "final_data.dtypes"
   ]
  },
  {
   "cell_type": "code",
   "execution_count": 12,
   "id": "e6897049",
   "metadata": {},
   "outputs": [
    {
     "name": "stdout",
     "output_type": "stream",
     "text": [
      "<class 'pandas.core.frame.DataFrame'>\n",
      "RangeIndex: 32834 entries, 0 to 32833\n",
      "Data columns (total 11 columns):\n",
      " #   Column                Non-Null Count  Dtype  \n",
      "---  ------                --------------  -----  \n",
      " 0   Name                  32834 non-null  object \n",
      " 1   Age                   32834 non-null  object \n",
      " 2   Gender                32834 non-null  object \n",
      " 3   Movement              32834 non-null  object \n",
      " 4   Timestamp             32834 non-null  int64  \n",
      " 5   Sample_no             32834 non-null  int64  \n",
      " 6   Accelerometer         32834 non-null  float64\n",
      " 7   Gyroscope             32834 non-null  float64\n",
      " 8   Magnetometer          32834 non-null  float64\n",
      " 9   Movement_bool         32834 non-null  object \n",
      " 10  Movement_description  32834 non-null  int64  \n",
      "dtypes: float64(3), int64(3), object(5)\n",
      "memory usage: 2.8+ MB\n"
     ]
    }
   ],
   "source": [
    "final_data.info()"
   ]
  },
  {
   "cell_type": "code",
   "execution_count": 13,
   "id": "e12f6fe4",
   "metadata": {},
   "outputs": [
    {
     "data": {
      "text/plain": [
       "<AxesSubplot:>"
      ]
     },
     "execution_count": 13,
     "metadata": {},
     "output_type": "execute_result"
    },
    {
     "data": {
      "image/png": "[encoded data removed]",
      "text/plain": [
       "<Figure size 432x288 with 1 Axes>"
      ]
     },
     "metadata": {
      "needs_background": "light"
     },
     "output_type": "display_data"
    }
   ],
   "source": [
    "#Checking Outliers\n",
    "final_data.boxplot()"
   ]
  },
  {
   "cell_type": "code",
   "execution_count": 14,
   "id": "43e5775a",
   "metadata": {},
   "outputs": [
    {
     "data": {
      "text/html": [
       "<div>\n",
       "<style scoped>\n",
       "    .dataframe tbody tr th:only-of-type {\n",
       "        vertical-align: middle;\n",
       "    }\n",
       "\n",
       "    .dataframe tbody tr th {\n",
       "        vertical-align: top;\n",
       "    }\n",
       "\n",
       "    .dataframe thead th {\n",
       "        text-align: right;\n",
       "    }\n",
       "</style>\n",
       "<table border=\"1\" class=\"dataframe\">\n",
       "  <thead>\n",
       "    <tr style=\"text-align: right;\">\n",
       "      <th></th>\n",
       "      <th>Timestamp</th>\n",
       "      <th>Sample_no</th>\n",
       "      <th>Accelerometer</th>\n",
       "      <th>Gyroscope</th>\n",
       "      <th>Magnetometer</th>\n",
       "      <th>Movement_description</th>\n",
       "    </tr>\n",
       "  </thead>\n",
       "  <tbody>\n",
       "    <tr>\n",
       "      <th>Timestamp</th>\n",
       "      <td>1.000000</td>\n",
       "      <td>0.493527</td>\n",
       "      <td>-0.037951</td>\n",
       "      <td>0.014810</td>\n",
       "      <td>0.007551</td>\n",
       "      <td>-0.000116</td>\n",
       "    </tr>\n",
       "    <tr>\n",
       "      <th>Sample_no</th>\n",
       "      <td>0.493527</td>\n",
       "      <td>1.000000</td>\n",
       "      <td>0.164706</td>\n",
       "      <td>-0.000362</td>\n",
       "      <td>-0.025284</td>\n",
       "      <td>-0.000253</td>\n",
       "    </tr>\n",
       "    <tr>\n",
       "      <th>Accelerometer</th>\n",
       "      <td>-0.037951</td>\n",
       "      <td>0.164706</td>\n",
       "      <td>1.000000</td>\n",
       "      <td>-0.187245</td>\n",
       "      <td>-0.656970</td>\n",
       "      <td>0.011041</td>\n",
       "    </tr>\n",
       "    <tr>\n",
       "      <th>Gyroscope</th>\n",
       "      <td>0.014810</td>\n",
       "      <td>-0.000362</td>\n",
       "      <td>-0.187245</td>\n",
       "      <td>1.000000</td>\n",
       "      <td>0.155585</td>\n",
       "      <td>-0.049754</td>\n",
       "    </tr>\n",
       "    <tr>\n",
       "      <th>Magnetometer</th>\n",
       "      <td>0.007551</td>\n",
       "      <td>-0.025284</td>\n",
       "      <td>-0.656970</td>\n",
       "      <td>0.155585</td>\n",
       "      <td>1.000000</td>\n",
       "      <td>0.013653</td>\n",
       "    </tr>\n",
       "    <tr>\n",
       "      <th>Movement_description</th>\n",
       "      <td>-0.000116</td>\n",
       "      <td>-0.000253</td>\n",
       "      <td>0.011041</td>\n",
       "      <td>-0.049754</td>\n",
       "      <td>0.013653</td>\n",
       "      <td>1.000000</td>\n",
       "    </tr>\n",
       "  </tbody>\n",
       "</table>\n",
       "</div>"
      ],
      "text/plain": [
       "                      Timestamp  Sample_no  Accelerometer  Gyroscope  \\\n",
       "Timestamp              1.000000   0.493527      -0.037951   0.014810   \n",
       "Sample_no              0.493527   1.000000       0.164706  -0.000362   \n",
       "Accelerometer         -0.037951   0.164706       1.000000  -0.187245   \n",
       "Gyroscope              0.014810  -0.000362      -0.187245   1.000000   \n",
       "Magnetometer           0.007551  -0.025284      -0.656970   0.155585   \n",
       "Movement_description  -0.000116  -0.000253       0.011041  -0.049754   \n",
       "\n",
       "                      Magnetometer  Movement_description  \n",
       "Timestamp                 0.007551             -0.000116  \n",
       "Sample_no                -0.025284             -0.000253  \n",
       "Accelerometer            -0.656970              0.011041  \n",
       "Gyroscope                 0.155585             -0.049754  \n",
       "Magnetometer              1.000000              0.013653  \n",
       "Movement_description      0.013653              1.000000  "
      ]
     },
     "execution_count": 14,
     "metadata": {},
     "output_type": "execute_result"
    }
   ],
   "source": [
    "#Checking coorelation\n",
    "final_data.corr()"
   ]
  },
  {
   "cell_type": "code",
   "execution_count": 15,
   "id": "b8783f56",
   "metadata": {},
   "outputs": [
    {
     "data": {
      "text/html": [
       "<div>\n",
       "<style scoped>\n",
       "    .dataframe tbody tr th:only-of-type {\n",
       "        vertical-align: middle;\n",
       "    }\n",
       "\n",
       "    .dataframe tbody tr th {\n",
       "        vertical-align: top;\n",
       "    }\n",
       "\n",
       "    .dataframe thead th {\n",
       "        text-align: right;\n",
       "    }\n",
       "</style>\n",
       "<table border=\"1\" class=\"dataframe\">\n",
       "  <thead>\n",
       "    <tr style=\"text-align: right;\">\n",
       "      <th></th>\n",
       "      <th>Name</th>\n",
       "      <th>Age</th>\n",
       "      <th>Gender</th>\n",
       "      <th>Movement</th>\n",
       "      <th>Timestamp</th>\n",
       "      <th>Sample_no</th>\n",
       "      <th>Accelerometer</th>\n",
       "      <th>Gyroscope</th>\n",
       "      <th>Magnetometer</th>\n",
       "      <th>Movement_bool</th>\n",
       "      <th>Movement_description</th>\n",
       "    </tr>\n",
       "  </thead>\n",
       "  <tbody>\n",
       "    <tr>\n",
       "      <th>0</th>\n",
       "      <td>Subject_01</td>\n",
       "      <td>67</td>\n",
       "      <td>F</td>\n",
       "      <td>ADL</td>\n",
       "      <td>102</td>\n",
       "      <td>1</td>\n",
       "      <td>-0.138750</td>\n",
       "      <td>0.886872</td>\n",
       "      <td>0.331029</td>\n",
       "      <td>FALSE</td>\n",
       "      <td>1</td>\n",
       "    </tr>\n",
       "    <tr>\n",
       "      <th>1</th>\n",
       "      <td>Subject_01</td>\n",
       "      <td>67</td>\n",
       "      <td>F</td>\n",
       "      <td>ADL</td>\n",
       "      <td>102</td>\n",
       "      <td>2</td>\n",
       "      <td>-0.138140</td>\n",
       "      <td>0.886507</td>\n",
       "      <td>0.332372</td>\n",
       "      <td>FALSE</td>\n",
       "      <td>1</td>\n",
       "    </tr>\n",
       "    <tr>\n",
       "      <th>2</th>\n",
       "      <td>Subject_01</td>\n",
       "      <td>67</td>\n",
       "      <td>F</td>\n",
       "      <td>ADL</td>\n",
       "      <td>102</td>\n",
       "      <td>3</td>\n",
       "      <td>-0.134844</td>\n",
       "      <td>0.889558</td>\n",
       "      <td>0.331150</td>\n",
       "      <td>FALSE</td>\n",
       "      <td>1</td>\n",
       "    </tr>\n",
       "    <tr>\n",
       "      <th>3</th>\n",
       "      <td>Subject_01</td>\n",
       "      <td>67</td>\n",
       "      <td>F</td>\n",
       "      <td>ADL</td>\n",
       "      <td>102</td>\n",
       "      <td>4</td>\n",
       "      <td>-0.140215</td>\n",
       "      <td>0.886628</td>\n",
       "      <td>0.333714</td>\n",
       "      <td>FALSE</td>\n",
       "      <td>1</td>\n",
       "    </tr>\n",
       "    <tr>\n",
       "      <th>4</th>\n",
       "      <td>Subject_01</td>\n",
       "      <td>67</td>\n",
       "      <td>F</td>\n",
       "      <td>ADL</td>\n",
       "      <td>102</td>\n",
       "      <td>5</td>\n",
       "      <td>-0.139117</td>\n",
       "      <td>0.886262</td>\n",
       "      <td>0.334568</td>\n",
       "      <td>FALSE</td>\n",
       "      <td>1</td>\n",
       "    </tr>\n",
       "  </tbody>\n",
       "</table>\n",
       "</div>"
      ],
      "text/plain": [
       "         Name Age Gender Movement  Timestamp  Sample_no  Accelerometer  \\\n",
       "0  Subject_01  67      F      ADL        102          1      -0.138750   \n",
       "1  Subject_01  67      F      ADL        102          2      -0.138140   \n",
       "2  Subject_01  67      F      ADL        102          3      -0.134844   \n",
       "3  Subject_01  67      F      ADL        102          4      -0.140215   \n",
       "4  Subject_01  67      F      ADL        102          5      -0.139117   \n",
       "\n",
       "   Gyroscope  Magnetometer Movement_bool  Movement_description  \n",
       "0   0.886872      0.331029         FALSE                     1  \n",
       "1   0.886507      0.332372         FALSE                     1  \n",
       "2   0.889558      0.331150         FALSE                     1  \n",
       "3   0.886628      0.333714         FALSE                     1  \n",
       "4   0.886262      0.334568         FALSE                     1  "
      ]
     },
     "execution_count": 15,
     "metadata": {},
     "output_type": "execute_result"
    }
   ],
   "source": [
    "final_data.head()"
   ]
  },
  {
   "cell_type": "code",
   "execution_count": 16,
   "id": "e2e9c0d7",
   "metadata": {},
   "outputs": [
    {
     "data": {
      "text/plain": [
       "array([1, 2, 3, 5, 6], dtype=int64)"
      ]
     },
     "execution_count": 16,
     "metadata": {},
     "output_type": "execute_result"
    }
   ],
   "source": [
    "final_data['Movement_description'].unique()"
   ]
  },
  {
   "cell_type": "code",
   "execution_count": 17,
   "id": "a4a8f6ae",
   "metadata": {},
   "outputs": [
    {
     "data": {
      "text/plain": [
       "2    6579\n",
       "5    6571\n",
       "3    6564\n",
       "1    6562\n",
       "6    6558\n",
       "Name: Movement_description, dtype: int64"
      ]
     },
     "execution_count": 17,
     "metadata": {},
     "output_type": "execute_result"
    }
   ],
   "source": [
    "#Check if data is balanced\n",
    "final_data['Movement_description'].value_counts()"
   ]
  },
  {
   "cell_type": "markdown",
   "id": "0272b44d",
   "metadata": {},
   "source": [
    "# Splitting Data"
   ]
  },
  {
   "cell_type": "code",
   "execution_count": 18,
   "id": "466881cf",
   "metadata": {},
   "outputs": [],
   "source": [
    "X = final_data[['Accelerometer','Gyroscope','Magnetometer']]\n",
    "Y = final_data['Movement_description']"
   ]
  },
  {
   "cell_type": "code",
   "execution_count": 19,
   "id": "b9c58122",
   "metadata": {},
   "outputs": [],
   "source": [
    "# Split the dataset into training and testing sets\n",
    "X_train, X_test, y_train, y_test = train_test_split(X, Y, test_size=0.10, random_state=100)"
   ]
  },
  {
   "cell_type": "markdown",
   "id": "6758c8df",
   "metadata": {},
   "source": [
    "# Model Building"
   ]
  },
  {
   "cell_type": "markdown",
   "id": "e1452f3a",
   "metadata": {},
   "source": [
    "## Random Forest"
   ]
  },
  {
   "cell_type": "code",
   "execution_count": 20,
   "id": "7f809cc6",
   "metadata": {},
   "outputs": [
    {
     "data": {
      "text/plain": [
       "RandomForestClassifier(max_depth=2, random_state=0)"
      ]
     },
     "execution_count": 20,
     "metadata": {},
     "output_type": "execute_result"
    }
   ],
   "source": [
    "RF = RandomForestClassifier(max_depth=2, random_state=0)\n",
    "RF.fit(X_train, y_train)"
   ]
  },
  {
   "cell_type": "code",
   "execution_count": 21,
   "id": "9594334b",
   "metadata": {},
   "outputs": [],
   "source": [
    "#Prediction\n",
    "y_pred = RF.predict(X_test)"
   ]
  },
  {
   "cell_type": "code",
   "execution_count": 22,
   "id": "0e9998cb",
   "metadata": {},
   "outputs": [],
   "source": [
    "#Classification Report\n",
    "report1 = classification_report(y_test, y_pred)"
   ]
  },
  {
   "cell_type": "code",
   "execution_count": 23,
   "id": "2ca5ec2b",
   "metadata": {},
   "outputs": [
    {
     "name": "stdout",
     "output_type": "stream",
     "text": [
      "              precision    recall  f1-score   support\n",
      "\n",
      "           1       0.46      0.47      0.47       645\n",
      "           2       0.46      0.54      0.50       691\n",
      "           3       0.36      0.61      0.46       661\n",
      "           5       0.82      0.44      0.57       655\n",
      "           6       0.37      0.21      0.27       632\n",
      "\n",
      "    accuracy                           0.46      3284\n",
      "   macro avg       0.50      0.46      0.45      3284\n",
      "weighted avg       0.50      0.46      0.46      3284\n",
      "\n"
     ]
    }
   ],
   "source": [
    "print(report1)"
   ]
  },
  {
   "cell_type": "markdown",
   "id": "7becdd01",
   "metadata": {},
   "source": [
    "# Decision tree"
   ]
  },
  {
   "cell_type": "code",
   "execution_count": 28,
   "id": "4da43edc",
   "metadata": {},
   "outputs": [],
   "source": [
    "from sklearn import tree"
   ]
  },
  {
   "cell_type": "code",
   "execution_count": 29,
   "id": "74a7eba9",
   "metadata": {},
   "outputs": [],
   "source": [
    "DT = tree.DecisionTreeClassifier()\n",
    "DT = DT.fit(X_train, y_train)"
   ]
  },
  {
   "cell_type": "code",
   "execution_count": 30,
   "id": "338b680c",
   "metadata": {},
   "outputs": [],
   "source": [
    "#Prediction\n",
    "y_pred = DT.predict(X_test)"
   ]
  },
  {
   "cell_type": "code",
   "execution_count": 31,
   "id": "c2cf65a0",
   "metadata": {},
   "outputs": [],
   "source": [
    "#Classification Report\n",
    "report2 = classification_report(y_test, y_pred)"
   ]
  },
  {
   "cell_type": "code",
   "execution_count": 32,
   "id": "7ccaa8d1",
   "metadata": {},
   "outputs": [
    {
     "name": "stdout",
     "output_type": "stream",
     "text": [
      "              precision    recall  f1-score   support\n",
      "\n",
      "           1       0.79      0.78      0.79       645\n",
      "           2       0.73      0.75      0.74       691\n",
      "           3       0.70      0.72      0.71       661\n",
      "           5       0.82      0.80      0.81       655\n",
      "           6       0.74      0.73      0.74       632\n",
      "\n",
      "    accuracy                           0.76      3284\n",
      "   macro avg       0.76      0.76      0.76      3284\n",
      "weighted avg       0.76      0.76      0.76      3284\n",
      "\n"
     ]
    }
   ],
   "source": [
    "print(report2)"
   ]
  },
  {
   "cell_type": "markdown",
   "id": "160f19fa",
   "metadata": {},
   "source": [
    "# Neural Network"
   ]
  },
  {
   "cell_type": "code",
   "execution_count": 24,
   "id": "6852c2ec",
   "metadata": {},
   "outputs": [],
   "source": [
    "import tensorflow as tf\n",
    "from tensorflow.keras.models import Sequential\n",
    "from tensorflow.keras.layers import Dense"
   ]
  },
  {
   "cell_type": "code",
   "execution_count": 25,
   "id": "caeadb76",
   "metadata": {},
   "outputs": [],
   "source": [
    "# Build the neural network model\n",
    "model = Sequential()\n",
    "model.add(Dense(64, activation='relu', input_shape=(X_train.shape[1],)))\n",
    "model.add(Dense(32, activation='relu'))\n",
    "model.add(Dense(16, activation='relu'))\n",
    "model.add(Dense(8, activation='relu'))\n",
    "model.add(Dense(1, activation='sigmoid'))"
   ]
  },
  {
   "cell_type": "code",
   "execution_count": 26,
   "id": "965bdae2",
   "metadata": {},
   "outputs": [],
   "source": [
    "model.compile(loss='categorical_crossentropy', optimizer='adam', metrics=['accuracy'])"
   ]
  },
  {
   "cell_type": "code",
   "execution_count": 27,
   "id": "b254f623",
   "metadata": {},
   "outputs": [
    {
     "name": "stdout",
     "output_type": "stream",
     "text": [
      "Epoch 1/10\n",
      "1663/1663 [==============================] - 2s 1ms/step - loss: 0.0000e+00 - accuracy: 0.1986 - val_loss: 0.0000e+00 - val_accuracy: 0.2098\n",
      "Epoch 2/10\n",
      "1663/1663 [==============================] - 2s 1ms/step - loss: 0.0000e+00 - accuracy: 0.1992 - val_loss: 0.0000e+00 - val_accuracy: 0.2098\n",
      "Epoch 3/10\n",
      "1663/1663 [==============================] - 2s 924us/step - loss: 0.0000e+00 - accuracy: 0.1992 - val_loss: 0.0000e+00 - val_accuracy: 0.2098\n",
      "Epoch 4/10\n",
      "1663/1663 [==============================] - 2s 964us/step - loss: 0.0000e+00 - accuracy: 0.1992 - val_loss: 0.0000e+00 - val_accuracy: 0.2098\n",
      "Epoch 5/10\n",
      "1663/1663 [==============================] - 2s 915us/step - loss: 0.0000e+00 - accuracy: 0.1992 - val_loss: 0.0000e+00 - val_accuracy: 0.2098\n",
      "Epoch 6/10\n",
      "1663/1663 [==============================] - 1s 886us/step - loss: 0.0000e+00 - accuracy: 0.1992 - val_loss: 0.0000e+00 - val_accuracy: 0.2098\n",
      "Epoch 7/10\n",
      "1663/1663 [==============================] - 2s 906us/step - loss: 0.0000e+00 - accuracy: 0.1992 - val_loss: 0.0000e+00 - val_accuracy: 0.2098\n",
      "Epoch 8/10\n",
      "1663/1663 [==============================] - 1s 897us/step - loss: 0.0000e+00 - accuracy: 0.1992 - val_loss: 0.0000e+00 - val_accuracy: 0.2098\n",
      "Epoch 9/10\n",
      "1663/1663 [==============================] - 1s 891us/step - loss: 0.0000e+00 - accuracy: 0.1992 - val_loss: 0.0000e+00 - val_accuracy: 0.2098\n",
      "Epoch 10/10\n",
      "1663/1663 [==============================] - 2s 998us/step - loss: 0.0000e+00 - accuracy: 0.1992 - val_loss: 0.0000e+00 - val_accuracy: 0.2098\n",
      "103/103 [==============================] - 0s 618us/step\n",
      "Classification Report:\n",
      "              precision    recall  f1-score   support\n",
      "\n",
      "           1       0.20      1.00      0.33       645\n",
      "           2       0.00      0.00      0.00       691\n",
      "           3       0.00      0.00      0.00       661\n",
      "           5       0.00      0.00      0.00       655\n",
      "           6       0.00      0.00      0.00       632\n",
      "\n",
      "    accuracy                           0.20      3284\n",
      "   macro avg       0.04      0.20      0.07      3284\n",
      "weighted avg       0.04      0.20      0.06      3284\n",
      "\n"
     ]
    }
   ],
   "source": [
    "# Train the model\n",
    "epochs = 10\n",
    "batch_size = 16\n",
    "\n",
    "model.fit(X_train, y_train, epochs=epochs, batch_size=batch_size, validation_split=0.1)\n",
    "\n",
    "# Evaluate the model on the test set\n",
    "y_pred = model.predict(X_test)\n",
    "\n",
    "print(\"Classification Report:\")\n",
    "print(classification_report(y_test, y_pred))"
   ]
  },
  {
   "cell_type": "code",
   "execution_count": null,
   "id": "195f017b",
   "metadata": {},
   "outputs": [],
   "source": []
  }
 ],
 "metadata": {
  "kernelspec": {
   "display_name": "Python 3 (ipykernel)",
   "language": "python",
   "name": "python3"
  },
  "language_info": {
   "codemirror_mode": {
    "name": "ipython",
    "version": 3
   },
   "file_extension": ".py",
   "mimetype": "text/x-python",
   "name": "python",
   "nbconvert_exporter": "python",
   "pygments_lexer": "ipython3",
   "version": "3.9.12"
  }
 },
 "nbformat": 4,
 "nbformat_minor": 5
}
